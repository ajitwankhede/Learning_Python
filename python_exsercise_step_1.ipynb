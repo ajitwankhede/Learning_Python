{
 "cells": [
  {
   "cell_type": "code",
   "execution_count": 1,
   "id": "da66ceaf",
   "metadata": {},
   "outputs": [
    {
     "name": "stdout",
     "output_type": "stream",
     "text": [
      "data type of var(a) is  <class 'int'>\n",
      "data type of var(b) is  <class 'float'>\n",
      "data type of var(c) is  <class 'complex'>\n"
     ]
    }
   ],
   "source": [
    "## Write a program to demonstrate different number data types in Python.\n",
    "a=10\n",
    "b=11.5\n",
    "c=2.05j\n",
    "print(\"data type of var(a) is \", type(a))\n",
    "print(\"data type of var(b) is \", type(b))\n",
    "print(\"data type of var(c) is \", type(c))"
   ]
  },
  {
   "cell_type": "code",
   "execution_count": 2,
   "id": "0534202c",
   "metadata": {},
   "outputs": [
    {
     "name": "stdout",
     "output_type": "stream",
     "text": [
      "Enter value of a5\n",
      "Enter value of b2\n",
      "Addition of a and b 7\n",
      "subtraction of a and b 3\n",
      "Multiplication of a and b 10\n",
      "Division of a and b 2.5\n",
      "Remainder of a and b 1\n",
      "exponent of a and b 25\n",
      "Floar division of a and b 2\n"
     ]
    }
   ],
   "source": [
    "## Write a program to perform different Arithmetic Operations on numbers in Python.\n",
    "a = int(input(\"Enter value of a\"))\n",
    "b = int(input(\"Enter value of b\"))\n",
    "print(\"Addition of a and b\", a+b)\n",
    "print(\"subtraction of a and b\", a-b)\n",
    "print(\"Multiplication of a and b\", a*b)\n",
    "print(\"Division of a and b\", a/b)\n",
    "print(\"Remainder of a and b\", a%b)\n",
    "print(\"exponent of a and b\", a**b)\n",
    "print(\"Floar division of a and b\", a//b)"
   ]
  },
  {
   "cell_type": "code",
   "execution_count": 4,
   "id": "37fd7eaf",
   "metadata": {},
   "outputs": [
    {
     "name": "stdout",
     "output_type": "stream",
     "text": [
      "Enter first string : ajit\n",
      "Enter second string : wankhede\n",
      "First string is ajit\n",
      "Second string is wankhede\n",
      "concatenation of two string is : ajitwankhede\n",
      "substring from given string :  jit\n"
     ]
    }
   ],
   "source": [
    "## Write a program to create, concatenate and print a string and accessing sub-string from a given string\n",
    "str1 = str(input(\"Enter first string : \"))\n",
    "str2 = str(input(\"Enter second string : \"))\n",
    "print(\"First string is\", str1)\n",
    "print(\"Second string is\", str2)\n",
    "print(\"concatenation of two string is :\", str1 +str2)\n",
    "print(\"substring from given string : \", str1[1:4])"
   ]
  },
  {
   "cell_type": "code",
   "execution_count": 10,
   "id": "69e0db0d",
   "metadata": {},
   "outputs": [
    {
     "name": "stdout",
     "output_type": "stream",
     "text": [
      "Thu Dec 29 15:12:58 India Standard Time 2022\n"
     ]
    },
    {
     "data": {
      "text/plain": [
       "'\\n    %a : Abbreviated weekday name\\n    %b : Abbreviated month name\\n    %d : day of the month as a decimal number\\n    %H : Hour (24-hour clock) as decimal number\\n    %M : Minute as decimal number\\n    %S : Second as decimal number\\n    %Z : Time zone name (no characters if no time zone exists)\\n    %Y : Year with century as a decimal number.\\n'"
      ]
     },
     "execution_count": 10,
     "metadata": {},
     "output_type": "execute_result"
    }
   ],
   "source": [
    "##  Write a python script to print the current date in the following format \n",
    "## “Sun May 29 02:26:23 IST 2017”\n",
    "import time\n",
    "localtime = time.localtime()\n",
    "print(time.strftime(\"%a %b %d %H:%M:%S %Z %Y\", localtime));\n",
    "\n",
    "'''\n",
    "    %a : Abbreviated weekday name\n",
    "    %b : Abbreviated month name\n",
    "    %d : day of the month as a decimal number\n",
    "    %H : Hour (24-hour clock) as decimal number\n",
    "    %M : Minute as decimal number\n",
    "    %S : Second as decimal number\n",
    "    %Z : Time zone name (no characters if no time zone exists)\n",
    "    %Y : Year with century as a decimal number.\n",
    "'''\n"
   ]
  },
  {
   "cell_type": "code",
   "execution_count": 1,
   "id": "fa2c50cd",
   "metadata": {},
   "outputs": [],
   "source": [
    "# write a program to create, append and remove lists in python\n",
    "#create list \n",
    "my_list = []\n",
    "my_list =[1,3,4] # integer list\n",
    "my_list = [1, 'hello', 3.5] # mixed list\n",
    "\n",
    "# Nested list\n",
    "my_list = [1,2, ['a', 'b', c], 3]\n",
    "\n",
    "\n"
   ]
  }
 ],
 "metadata": {
  "kernelspec": {
   "display_name": "Python 3 (ipykernel)",
   "language": "python",
   "name": "python3"
  },
  "language_info": {
   "codemirror_mode": {
    "name": "ipython",
    "version": 3
   },
   "file_extension": ".py",
   "mimetype": "text/x-python",
   "name": "python",
   "nbconvert_exporter": "python",
   "pygments_lexer": "ipython3",
   "version": "3.8.8"
  }
 },
 "nbformat": 4,
 "nbformat_minor": 5
}
