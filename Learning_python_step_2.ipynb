{
  "nbformat": 4,
  "nbformat_minor": 0,
  "metadata": {
    "colab": {
      "provenance": [],
      "authorship_tag": "ABX9TyM0NGbivg4nAVi2rJ4cEl8w",
      "include_colab_link": true
    },
    "kernelspec": {
      "name": "python3",
      "display_name": "Python 3"
    },
    "language_info": {
      "name": "python"
    }
  },
  "cells": [
    {
      "cell_type": "markdown",
      "metadata": {
        "id": "view-in-github",
        "colab_type": "text"
      },
      "source": [
        "<a href=\"https://colab.research.google.com/github/ajitwankhede/Learning_Python/blob/main/Learning_python_step_2.ipynb\" target=\"_parent\"><img src=\"https://colab.research.google.com/assets/colab-badge.svg\" alt=\"Open In Colab\"/></a>"
      ]
    },
    {
      "cell_type": "markdown",
      "source": [
        "**Learning Python Programming**"
      ],
      "metadata": {
        "id": "31Gt2qNQQj5r"
      }
    },
    {
      "cell_type": "code",
      "source": [
        "!python --version"
      ],
      "metadata": {
        "colab": {
          "base_uri": "https://localhost:8080/"
        },
        "id": "6X3QOsW_Qvuh",
        "outputId": "55024470-fa9f-4f85-df41-96a1a641a318"
      },
      "execution_count": null,
      "outputs": [
        {
          "output_type": "stream",
          "name": "stdout",
          "text": [
            "Python 3.7.13\n"
          ]
        }
      ]
    },
    {
      "cell_type": "code",
      "source": [
        " print(\"Hello world!\")\n",
        " name = input(\"What is your name?\")\n",
        " print(\"Nice to meet you\", name)"
      ],
      "metadata": {
        "colab": {
          "base_uri": "https://localhost:8080/"
        },
        "id": "hP8qn1VHS8Zx",
        "outputId": "ced2efce-6a1f-4741-ae64-10da4637e0ca"
      },
      "execution_count": null,
      "outputs": [
        {
          "output_type": "stream",
          "name": "stdout",
          "text": [
            "Hello world!\n",
            "What is your name?Ajit\n",
            "Nice to meet you Ajit\n"
          ]
        }
      ]
    },
    {
      "cell_type": "code",
      "source": [
        "#Define function \n",
        "def main():\n",
        "    print(\"Hello word!\")\n",
        "    name = input(\"What is your name?\")\n",
        "    print(\"Nice to meet you\", name)\n",
        "#Execuet main function \n",
        "if __name__ == \"__main__\":\n",
        "  main()"
      ],
      "metadata": {
        "colab": {
          "base_uri": "https://localhost:8080/"
        },
        "id": "2vTc28qDWjW3",
        "outputId": "54b182ae-7d0b-4e0f-d336-5db08ff4cb83"
      },
      "execution_count": null,
      "outputs": [
        {
          "output_type": "stream",
          "name": "stdout",
          "text": [
            "Hello word!\n",
            "What is your name?Ajit\n",
            "Nice to meet you Ajit\n"
          ]
        }
      ]
    },
    {
      "cell_type": "code",
      "source": [
        "# Basic Data types in python : Numbers(int, floting point), string, booleans, Sequences, Dictionaries\n",
        "\n",
        "data_int = 5\n",
        "data_flot = 13.4\n",
        "data_string = \"this is string data type\"\n",
        "data_bool = True\n",
        "Data_list = [1, 2, \"ajit\", 3.14, False]\n",
        "Data_tuple = (0,1,2,3)\n",
        "Data_Dict = {\"one\":1, \"two\":2}\n",
        "\n",
        "print(data_int)\n",
        "print(data_flot)\n",
        "print(data_string)\n",
        "print(data_bool)\n",
        "print(Data_list)\n",
        "print(Data_tuple)\n",
        "print(Data_Dict)\n",
        "\n",
        "# Re-declearing varibal\n",
        "data_int = \"abc\"\n",
        "print(data_int)"
      ],
      "metadata": {
        "colab": {
          "base_uri": "https://localhost:8080/"
        },
        "id": "CPlxxvkkYU01",
        "outputId": "8467842d-b237-46d6-a7fc-cab980152612"
      },
      "execution_count": null,
      "outputs": [
        {
          "output_type": "stream",
          "name": "stdout",
          "text": [
            "5\n",
            "13.4\n",
            "this is string data type\n",
            "True\n",
            "[1, 2, 'ajit', 3.14, False]\n",
            "(0, 1, 2, 3)\n",
            "{'one': 1, 'two': 2}\n",
            "abc\n"
          ]
        }
      ]
    },
    {
      "cell_type": "code",
      "source": [
        "# to access a member of sequence type, use[]\n",
        "print(Data_list[2])\n",
        "print(Data_tuple[1])"
      ],
      "metadata": {
        "colab": {
          "base_uri": "https://localhost:8080/"
        },
        "id": "ogApo4a4aN05",
        "outputId": "22a0e01e-260c-47a1-f39a-0e74393b52f5"
      },
      "execution_count": null,
      "outputs": [
        {
          "output_type": "stream",
          "name": "stdout",
          "text": [
            "ajit\n",
            "1\n"
          ]
        }
      ]
    },
    {
      "cell_type": "code",
      "source": [
        "# use slice method to get parts of sequence\n",
        "print(Data_list[1:5])\n",
        "print(Data_list[2:5:2])  # list[start_ind : end_ind : step value]\n",
        "# Rverce the sequence of list\n",
        "print(Data_list[::-1])\n",
        "# reverce slice\n",
        "print(Data_list[-3])\n",
        "#Acsses Dictonary via key value\n",
        "print(Data_Dict[\"one\"])\n"
      ],
      "metadata": {
        "id": "diBqrxmJbT3D"
      },
      "execution_count": null,
      "outputs": []
    },
    {
      "cell_type": "code",
      "source": [
        "# combine tow diffrent data type\n",
        "print(\"string type data\" + 123) # for add two different data type you have to add only same data type in python\n",
        "# so for run above commend without any error \n",
        "# we have to change the data type as follow\n",
        "print(\"string type data\" + str(123))"
      ],
      "metadata": {
        "colab": {
          "base_uri": "https://localhost:8080/"
        },
        "id": "Ahi7tH2MoRHB",
        "outputId": "aa998c1e-f0c4-43b3-a96c-b77ec5c000e7"
      },
      "execution_count": null,
      "outputs": [
        {
          "output_type": "stream",
          "name": "stdout",
          "text": [
            "string type data123\n"
          ]
        }
      ]
    },
    {
      "cell_type": "code",
      "source": [
        "# global vs local varibal\n",
        "def someFun():\n",
        "  data_string= \"Def\"\n",
        "  print(data_string)\n",
        "\n",
        "someFun()\n",
        "print(data_string)"
      ],
      "metadata": {
        "colab": {
          "base_uri": "https://localhost:8080/"
        },
        "id": "zt6IyxUmpDBI",
        "outputId": "c2df0565-8b2a-4351-e55c-e6165ab09555"
      },
      "execution_count": null,
      "outputs": [
        {
          "output_type": "stream",
          "name": "stdout",
          "text": [
            "Def\n",
            "Def\n"
          ]
        }
      ]
    },
    {
      "cell_type": "markdown",
      "source": [
        "From above result we can see that 'data_string' variable hold the value \"Def\". and after execution of function complete the value of global variable appers again\n",
        "\n",
        "To change the value of global variable from inside the function we have to assine the value global as shone below"
      ],
      "metadata": {
        "id": "V7x8GawFpyy_"
      }
    },
    {
      "cell_type": "code",
      "source": [
        "def someFun():\n",
        "  global data_string\n",
        "  data_string = \"Def\"\n",
        "  print(data_string)\n",
        "someFun()\n",
        "print(data_string)"
      ],
      "metadata": {
        "colab": {
          "base_uri": "https://localhost:8080/"
        },
        "id": "9ceBhCBYq9zz",
        "outputId": "2224c26e-9754-46c7-d1f5-0fe5d0139618"
      },
      "execution_count": null,
      "outputs": [
        {
          "output_type": "stream",
          "name": "stdout",
          "text": [
            "Def\n",
            "Def\n"
          ]
        }
      ]
    },
    {
      "cell_type": "code",
      "source": [
        "# Delete the previous value of function\n",
        "del(data_string) # del var\n",
        "del(someFun) # del Function"
      ],
      "metadata": {
        "id": "63ouNSnGrm2P"
      },
      "execution_count": null,
      "outputs": []
    },
    {
      "cell_type": "code",
      "source": [
        "print(data_string)"
      ],
      "metadata": {
        "id": "n3NY7oKGspgd"
      },
      "execution_count": null,
      "outputs": []
    },
    {
      "cell_type": "markdown",
      "source": [
        "#### Function"
      ],
      "metadata": {
        "id": "WXPOrKgLtQy9"
      }
    },
    {
      "cell_type": "code",
      "source": [
        "# define function\n",
        "def function():\n",
        "  print(\"I am function\")\n",
        "\n",
        "# call function\n",
        "function() # print direct output of function\n",
        "print(function()) # print output inside the print statement, \n",
        "                  # but we not given any finction value inside hence it show outpune None\n",
        "                  # there is no return value in function hence it show None\n",
        "print(function)  # this show the object value of function"
      ],
      "metadata": {
        "colab": {
          "base_uri": "https://localhost:8080/"
        },
        "id": "AzR3nhTUtS7E",
        "outputId": "62221444-9815-4e04-84e8-5cd03e52d229"
      },
      "execution_count": null,
      "outputs": [
        {
          "output_type": "stream",
          "name": "stdout",
          "text": [
            "I am function\n",
            "I am function\n",
            "None\n",
            "<function function at 0x7f182a315ef0>\n"
          ]
        }
      ]
    },
    {
      "cell_type": "code",
      "source": [
        "# function that take argument\n",
        "def fun2(arg1, arg2):\n",
        "    print(arg1,\" \",arg2)\n",
        "\n",
        "# function that return value\n",
        "def cube(x):\n",
        "  return x*x*x\n",
        "\n",
        "fun2(10,20)\n",
        "print(fun2(10,20))  # it show the None at last\n",
        "                    # because there is no return value\n",
        "\n",
        "print(cube(3))"
      ],
      "metadata": {
        "colab": {
          "base_uri": "https://localhost:8080/"
        },
        "id": "oDVmZQR4v7kr",
        "outputId": "1ba71a99-43d0-4bbb-a771-b1c2e6117b86"
      },
      "execution_count": null,
      "outputs": [
        {
          "output_type": "stream",
          "name": "stdout",
          "text": [
            "10   20\n",
            "10   20\n",
            "None\n",
            "27\n"
          ]
        }
      ]
    },
    {
      "cell_type": "code",
      "source": [
        "# function with defult value for argument\n",
        "def power(num, x=1):\n",
        "    result = 1;\n",
        "    for i in range(x):\n",
        "      result = result * num\n",
        "    return result\n",
        "\n",
        "print(power(2))\n",
        "print(power(2,3))\n",
        "print(power(x= 3, num=2)) # assign value to argument"
      ],
      "metadata": {
        "colab": {
          "base_uri": "https://localhost:8080/"
        },
        "id": "_M52TTT9x03B",
        "outputId": "e3577cb0-2d48-41c1-9804-dfe71f3ae820"
      },
      "execution_count": null,
      "outputs": [
        {
          "output_type": "stream",
          "name": "stdout",
          "text": [
            "2\n",
            "8\n",
            "8\n"
          ]
        }
      ]
    },
    {
      "cell_type": "code",
      "source": [
        "# function with variable number of argument\n",
        "def multi_add(*args):  # \"*\" pass multipale argument\n",
        "    result = 0\n",
        "    for x in args:\n",
        "      result = result + x\n",
        "    return result\n",
        "\n",
        "print(multi_add(4,5,6,7))"
      ],
      "metadata": {
        "colab": {
          "base_uri": "https://localhost:8080/"
        },
        "id": "ssjgePTx1V1p",
        "outputId": "e096f290-e5fb-48e4-e692-6851abd750c6"
      },
      "execution_count": null,
      "outputs": [
        {
          "output_type": "stream",
          "name": "stdout",
          "text": [
            "22\n"
          ]
        }
      ]
    },
    {
      "cell_type": "markdown",
      "source": [
        "#### Condiational Structures"
      ],
      "metadata": {
        "id": "FLa4myRiuFj7"
      }
    },
    {
      "cell_type": "code",
      "source": [
        "def main():\n",
        "  x, y = 10, 100\n",
        "  #conditional flow uses if, elif, else\n",
        "  if x < y:\n",
        "    result = \"x is less than y\"\n",
        "  elif x==y:\n",
        "    result = \"x equal to y\"\n",
        "  else:\n",
        "    result = \"x is greater then y \"\n",
        "  print(result) \n",
        "\n",
        "  # conditional statement let you use \" A if C else B\" in one line\n",
        "  result = \"x is less\"\n",
        "  \n",
        "  # match-case makes it easy to compare multiple values\n",
        "  # this work in python version 3.10\n",
        "  # value = \"one\"\n",
        "  # match value:\n",
        "  #       case \"one\":\n",
        "  #         result = 1\n",
        "  #       case \"two\":\n",
        "  #         result =2\n",
        "  #       case \"three\" | \"four\":\n",
        "  #                   #or operator\n",
        "  #         result = (3,4)\n",
        "  #       case _:     # \"case _\" default case handaler for all excepection value print value \"-1\"\n",
        "  #         result = -1\n",
        "\n",
        "if __name__ == \"__main__\":\n",
        "  main()"
      ],
      "metadata": {
        "colab": {
          "base_uri": "https://localhost:8080/"
        },
        "id": "x36ddJGjuMoU",
        "outputId": "12729bb6-cc77-4e59-9e5a-9ffa1d7cb305"
      },
      "execution_count": null,
      "outputs": [
        {
          "output_type": "stream",
          "name": "stdout",
          "text": [
            "x is less than y\n"
          ]
        }
      ]
    },
    {
      "cell_type": "markdown",
      "source": [
        "#### Loops"
      ],
      "metadata": {
        "id": "oDumDJ5Q2Qpv"
      }
    },
    {
      "cell_type": "code",
      "source": [
        "def main():\n",
        "  x=0\n",
        "\n",
        "  # define a while loop\n",
        "  # while(x<5):\n",
        "  #   print(x)\n",
        "  #   x = x + 1\n",
        "  \n",
        "  # Definr for loop\n",
        "  # for x in range(5,10):\n",
        "  #   print(x)\n",
        "\n",
        "  #use a for loop over a collection\n",
        "  # days = [\"mon\", \"tue\", \"wed\", \"thu\", \"fri\", \"sat\", \"sun\"]\n",
        "  # for d in days:\n",
        "  #   print(d)\n",
        "\n",
        "  # use breck and continues statement \n",
        "  # for x in range(5, 10):\n",
        "  #     # if x == 7:\n",
        "  #     #   break\n",
        "    \n",
        "  #     if x % 2 == 0:\n",
        "  #       continue\n",
        "  #     print(x)\n",
        "\n",
        "  # using the enumerate() function to get index\n",
        "  days = [\"mon\", \"tue\", \"wed\", \"thu\", \"fri\", \"sat\", \"sun\"]\n",
        "  for i, d in enumerate(days):\n",
        "    print(i, d)\n",
        "\n",
        "\n",
        "if __name__ == \"__main__\":\n",
        "  main()"
      ],
      "metadata": {
        "colab": {
          "base_uri": "https://localhost:8080/"
        },
        "id": "LgQHQXg82TN1",
        "outputId": "f97336a0-7937-4a2d-ed9d-90911ce4cd0a"
      },
      "execution_count": null,
      "outputs": [
        {
          "output_type": "stream",
          "name": "stdout",
          "text": [
            "0 mon\n",
            "1 tue\n",
            "2 wed\n",
            "3 thu\n",
            "4 fri\n",
            "5 sat\n",
            "6 sun\n"
          ]
        }
      ]
    },
    {
      "cell_type": "markdown",
      "source": [
        "#### Class"
      ],
      "metadata": {
        "id": "x3uMXN9kNjO7"
      }
    },
    {
      "cell_type": "code",
      "source": [
        "class vehicle():\n",
        "  def __init__(self, bodystyle):              # __init__ method is the function that Python calls when the object has been created\n",
        "                                              # and its time to initialize the object's data\n",
        "      self.bodystyle = bodystyle\n",
        " \n",
        "  def drive(self, speed):         # we can also define function in class\n",
        "    self.mode = \"driving\"\n",
        "    self.speed = speed\n",
        "\n",
        "\n",
        "class Car(vehicle):\n",
        "  def __init__(self, enginetype):\n",
        "    super().__init__(\"Car\")\n",
        "    self.wheels = 4\n",
        "    self.doors = 4\n",
        "    self.enginetype = enginetype\n",
        "  def drive(self, speed):\n",
        "    super().drive(speed)\n",
        "    print(\"Driving my\", self.enginetype , \" a car at\", self.speed)\n",
        "\n",
        "class Motercycle(vehicle):\n",
        "  def __init__(self, enginetype, hassidecar):\n",
        "      super().__init__(\"Motercycle\")\n",
        "      if (hassidecar):\n",
        "         self.wheels = 3\n",
        "      else:\n",
        "        self.wheels = 2\n",
        "      self.doors = 0\n",
        "      self.enginetype = enginetype\n",
        "\n",
        "  def drive(self, speed):\n",
        "        super().drive(speed)\n",
        "        print(\"Driving my\", self.enginetype, \"a motercycle at\", self.speed)\n",
        "\n",
        "\n",
        "car1 = Car(\"gas\")\n",
        "car2 = Car(\"electric\")\n",
        "mc1 = Motercycle(\"gas\", True)\n",
        "\n",
        "print(mc1.wheels)\n",
        "print(car1.enginetype)\n",
        "print(car2.doors)\n",
        "\n",
        "car1.drive(30)\n",
        "car2.drive(40)\n",
        "mc1.drive(60)"
      ],
      "metadata": {
        "colab": {
          "base_uri": "https://localhost:8080/"
        },
        "id": "bYc2BfTyOG2G",
        "outputId": "5f7f8c60-9adc-40d0-ff46-af0424e6f563"
      },
      "execution_count": null,
      "outputs": [
        {
          "output_type": "stream",
          "name": "stdout",
          "text": [
            "3\n",
            "gas\n",
            "4\n",
            "Driving my gas  a car at 30\n",
            "Driving my electric  a car at 40\n",
            "Driving my gas a motercycle at 60\n"
          ]
        }
      ]
    },
    {
      "cell_type": "markdown",
      "source": [
        "#### Importing and using module"
      ],
      "metadata": {
        "id": "vs0V_iCQyJso"
      }
    },
    {
      "cell_type": "code",
      "source": [
        "# import modeule\n",
        "import math\n",
        "\n",
        "# math modeule contains lots of pre-built function\n",
        "print(\"The sqaure root of 16 is\", math.sqrt(16))\n",
        "\n",
        "# modeule contain usefull contain usefule constant\n",
        "print(\"Pi is\", math.pi)"
      ],
      "metadata": {
        "id": "j_kkjZnDggGb",
        "colab": {
          "base_uri": "https://localhost:8080/"
        },
        "outputId": "353c7c40-f87f-422b-c2c9-c3d83eef4349"
      },
      "execution_count": null,
      "outputs": [
        {
          "output_type": "stream",
          "name": "stdout",
          "text": [
            "The sqaure root of 16 is 4.0\n",
            "Pi is 3.141592653589793\n"
          ]
        }
      ]
    },
    {
      "cell_type": "markdown",
      "source": [
        "#### Exception handling"
      ],
      "metadata": {
        "id": "SiyJ38zlzuTE"
      }
    },
    {
      "cell_type": "code",
      "source": [
        "# bellow code cause error \n",
        "#x = 10/0\n",
        "\n",
        "# Exception provived a way of catching errors and then handling it\n",
        "# try:\n",
        "#   x=10/0\n",
        "# except:\n",
        "#   print(\"Well that didn't work!\")\n",
        "\n",
        "# you can also catch specific exceptions\n",
        "try:\n",
        "  answer = input(\"What shoud i divide 10 by?\")\n",
        "  num = int(answer)\n",
        "  print(10/num)\n",
        "except ZeroDivisionError as e:\n",
        "  print(\"You can't divided by zero!\")\n",
        "except ValueError as e:\n",
        "  print(\"You didn't give me a valid number!\")\n",
        "  print(e)\n",
        "finally:                          # \"finally\" section, contains code that will always execute \n",
        "  print(\"This code always run\")   # regardless of whether an error occurred"
      ],
      "metadata": {
        "colab": {
          "base_uri": "https://localhost:8080/"
        },
        "id": "ISMrblkYzaEN",
        "outputId": "c74db51b-98a4-4063-d0d1-8489891e1610"
      },
      "execution_count": null,
      "outputs": [
        {
          "output_type": "stream",
          "name": "stdout",
          "text": [
            "What shoud i divide 10 by?0\n",
            "You can't divided by zero!\n",
            "This code always run\n"
          ]
        }
      ]
    },
    {
      "cell_type": "markdown",
      "source": [
        "## Challenge : Palindromes"
      ],
      "metadata": {
        "id": "25q3CD4M3UaL"
      }
    },
    {
      "cell_type": "code",
      "source": [
        "def is_palindrome(teststr):\n",
        "  if teststr == teststr[::-1]:\n",
        "    return True\n",
        "  return False\n",
        "\n",
        "run = True\n",
        "while(run):\n",
        "  teststr = input(\"Enter a string to test for palindrome or press 'exit' :\")\n",
        "  if teststr== \"exit\":\n",
        "    run = False\n",
        "    break\n",
        "  \n",
        "  teststr = teststr.lower()\n",
        "  newstr = \"\"\n",
        "  for x in teststr:\n",
        "    if x.isalnum():\n",
        "      newstr += x\n",
        "\n",
        "  print(\"Palindrome test:\", is_palindrome(newstr))"
      ],
      "metadata": {
        "id": "PvzEPN_A3kXp",
        "colab": {
          "base_uri": "https://localhost:8080/"
        },
        "outputId": "dcdfe664-f3c4-4989-ac8a-bc5660c44d19"
      },
      "execution_count": null,
      "outputs": [
        {
          "name": "stdout",
          "output_type": "stream",
          "text": [
            "Enter a string to test for palindrome or press 'exit' :pip\n",
            "Palindrome test: False\n",
            "Enter a string to test for palindrome or press 'exit' :exit\n"
          ]
        }
      ]
    },
    {
      "cell_type": "code",
      "source": [
        "thestr = \"Ogres are often foolhardy oafs\"\n",
        "newstr = \"\"\n",
        "for i, c in enumerate(thestr):\n",
        "    if c == \"o\":\n",
        "        continue\n",
        "    if i > 20:\n",
        "        break\n",
        "    newstr += c\n",
        "print(newstr)"
      ],
      "metadata": {
        "colab": {
          "base_uri": "https://localhost:8080/"
        },
        "id": "akU304tFzg8r",
        "outputId": "ae98a1ea-8bdf-480a-82b3-cabdc9df0926"
      },
      "execution_count": null,
      "outputs": [
        {
          "output_type": "stream",
          "name": "stdout",
          "text": [
            "Ogres are ften flh\n"
          ]
        }
      ]
    },
    {
      "cell_type": "markdown",
      "source": [
        "#### Reading And writing with file"
      ],
      "metadata": {
        "id": "unPOYXIDcsn6"
      }
    },
    {
      "cell_type": "code",
      "source": [
        "def main():\n",
        "  # # open file for writing and create if it dosen'n exist\n",
        "  # #myfile= open(\"textfile.txt\", \"w+\") # w for writting file\n",
        "\n",
        "  # # open the file for appending text to the end\n",
        "  # myfile = open(\"textfile.txt\", \"a+\") # a for appending file \n",
        "  # # wirte somr lines of data to file\n",
        "  # for i in range(10):\n",
        "  #   myfile.write(\"this is some new text\\n\")\n",
        "  # #close the file\n",
        "  # myfile.close()\n",
        "\n",
        "  # open the file back up and read the content\n",
        "  myfile = open(\"textfile.txt\", \"r\")\n",
        "  if myfile.mode == \"r\":   # r for read file\n",
        "    # contents = myfile.read() # check file contents \n",
        "    # print(contents)\n",
        "\n",
        "    # read file line by line\n",
        "    f1 = myfile.readline()\n",
        "    for x in f1:\n",
        "      print(x)\n",
        "\n",
        "if __name__ == \"__main__\":\n",
        "  main()"
      ],
      "metadata": {
        "id": "2arhecYHcqN7",
        "colab": {
          "base_uri": "https://localhost:8080/"
        },
        "outputId": "166f70d2-a1dd-484a-ba52-a702518055bd"
      },
      "execution_count": null,
      "outputs": [
        {
          "output_type": "stream",
          "name": "stdout",
          "text": [
            "t\n",
            "h\n",
            "i\n",
            "s\n",
            " \n",
            "i\n",
            "s\n",
            " \n",
            "s\n",
            "o\n",
            "m\n",
            "e\n",
            " \n",
            "t\n",
            "e\n",
            "x\n",
            "t\n",
            "\n",
            "\n"
          ]
        }
      ]
    },
    {
      "cell_type": "markdown",
      "source": [
        "#### Working with OS path utilities"
      ],
      "metadata": {
        "id": "ERZ5iQFc-qtE"
      }
    },
    {
      "cell_type": "code",
      "source": [
        "# import module\n",
        "\n",
        "import os\n",
        "from os import path\n",
        "import datetime\n",
        "from datetime import datetime\n",
        "from datetime import date, time, timedelta\n",
        "import time\n",
        "\n",
        "def main():\n",
        "  # # print the name of OS\n",
        "  # print (os.name)\n",
        "  # # check for item existence and type\n",
        "  # print(\"Item exists:\", str(path.exists(\"textfile.txt\")))\n",
        "  # print(\"Item is file:\", path.isfile(\"textfile.txt\"))  # check for file\n",
        "  # print(\"Item is directory:\", path.isdir(\"textfile.txt\")) # check for directory\n",
        "  \n",
        "  # # work with file path\n",
        "  # print(\"Item's path:\", path.realpath(\"textfile.txt\"))\n",
        "  # print(\"Item's path and name:\", path.split(path.realpath(\"textfile.txt\")))\n",
        "\n",
        "  # Get the modification time\n",
        "  t = time.ctime(path.getatime(\"textfile.txt\"))\n",
        "  print(t)\n",
        "  print(datetime.datetime.fromtimestamp(path.getatime(\"textfile.txt\")))\n",
        "\n",
        "  # Calculate how long ago the item was modified\n",
        "  td = datetime.datetime.now() - datetime.datetime.fromtimestamp(path.getatime(\"textfile.txt\")\n",
        "  ptint(td)\n",
        "\n",
        "\n",
        "if __name__ == \"__main__\":\n",
        "  main()"
      ],
      "metadata": {
        "id": "omik_LXOcU-r"
      },
      "execution_count": null,
      "outputs": []
    },
    {
      "cell_type": "markdown",
      "source": [
        "####  Using file system shell methods"
      ],
      "metadata": {
        "id": "VRZSPyjWIBBT"
      }
    },
    {
      "cell_type": "code",
      "source": [
        "from IPython.utils.py3compat import shutil\n",
        "from IPython.utils.py3compat import shutil\n",
        "from genericpath import exists\n",
        "from IPython.utils.process import shutil\n",
        "import os\n",
        "from os import path\n",
        "import shutil\n",
        "from shutil import make_archive\n",
        "\n",
        "\n",
        "def main():\n",
        "  # make a duplicate of an exctiting file\n",
        "  if path.exists(\"textfile.txt.bak\"):\n",
        "    # get path to the file in the current directory\n",
        "    src = path.realpath(\"textfile.txt\")\n",
        "\n",
        "    # let's make a bckup copy by appending \"bak\" to the name\n",
        "    # dst = src + \".bak\"\n",
        "    # shutil.copy(src, dst)\n",
        "\n",
        "    #rename the original file\n",
        "    #os.rename(\"textfile.txt\", \"newfile.txt\")\n",
        "\n",
        "    # now put the things into a ZIP archive\n",
        "    # root_dir, tail =path.split(src)\n",
        "    # shutil.make_archive(\"archive\", \"zip\", root_dir)\n",
        "    \n",
        "    #more fine-grained control over ZIP files\n",
        "    with ZipFile(\"testzip.zip\", \"w\") as newzip:\n",
        "      newzip.write(\"newfile.txt\")\n",
        "      newzip.write(\"txtfile.txt.bak\")\n",
        "\n",
        "if __name__ == \"__main__\":\n",
        "  main()"
      ],
      "metadata": {
        "id": "InDZ5fOkGnjb"
      },
      "execution_count": null,
      "outputs": []
    },
    {
      "cell_type": "markdown",
      "source": [
        "#### challenge : file\n",
        "make new file directory, with in that file directory add new text file witch contain file name with there total file size in byte\n"
      ],
      "metadata": {
        "id": "j1RRurVzU2_i"
      }
    },
    {
      "cell_type": "code",
      "source": [
        "# solution\n",
        "import os\n",
        "totalbytes =0\n",
        " # get list of all files in current directory\n",
        "dirlist = os.listdir()\n",
        "for entry in dirlist:\n",
        "   # make sure its file\n",
        "  if os.path.isfile(entry):\n",
        "    filesize = os.path.getsize(entry)\n",
        "    totalbytes += filesize\n",
        "\n",
        "#create a subdirectory called \"results\"\n",
        "os.mkdir(\"results\")\n",
        "\n",
        "\n",
        "# create the output file\n",
        "resultsfile = open(\"result/results.txt\", \"w+\")\n",
        "if resultsfile.mode == \"w+\":\n",
        "  resultsfile.write(\"totel bytecount:\" + str(totalbytes)+ \"\\n\")\n",
        "  resultsfile.write(\"File list:\\n\")\n",
        "  resultsfile.write(\"----------------\\n\")\n",
        "  # write the results into the file\n",
        "  for entry in dirlist:\n",
        "    if os.path.isfile(entry):\n",
        "      # write the file name to the results ledger\n",
        "      resultsfile.write(entry + \"\\n\")\n",
        "  # close the file when done\n",
        "  resultfile.close()\n"
      ],
      "metadata": {
        "id": "5o28a9P_UkUB"
      },
      "execution_count": null,
      "outputs": []
    },
    {
      "cell_type": "markdown",
      "source": [
        "#### The date, time, and datetime classes"
      ],
      "metadata": {
        "id": "PgrtHqY9xNsQ"
      }
    },
    {
      "cell_type": "code",
      "source": [
        "# Date object\n",
        "from datetime import date\n",
        "from datetime import time\n",
        "from datetime import datetime\n",
        "\n",
        "def main():\n",
        "\n",
        "  # # Get today's date from the simple today() method from the date class\n",
        "  # today = date.today()\n",
        "  # print(\"Today's date is,\", today)\n",
        "\n",
        "  # # print out the date's individual components\n",
        "  # print(\"Date component:\", today.day, today.month, today.year)\n",
        "\n",
        "  # # week day number\n",
        "  # print(\"Today's weekday # is\", today.weekday())\n",
        "  # days = [\"Monday\", \"Tuesday\", \"Wednsday\", \"Thursday\", \"Friday\", \"Saturday\", \"Sunday\"]\n",
        "  # print(\"Which is a \", days[today.weekday()])\n",
        "\n",
        "  # DATETIME OBJECTS\n",
        "  # get today's date from the datetime class\n",
        "  today = datetime.now()\n",
        "  print(\"Today,s date and time is\", today)\n",
        "  # get current time\n",
        "  t = datetime.time(datetime.now())\n",
        "  print(\"Current time is\",t)\n",
        "\n",
        "  \n",
        "if __name__ == \"__main__\":\n",
        "  main()"
      ],
      "metadata": {
        "colab": {
          "base_uri": "https://localhost:8080/"
        },
        "id": "_J1iLWwAxfoq",
        "outputId": "3c55c8c8-6e28-4758-8411-a8f9a7f2a4cb"
      },
      "execution_count": null,
      "outputs": [
        {
          "output_type": "stream",
          "name": "stdout",
          "text": [
            "Today,s date and time is 2022-08-29 14:18:09.619195\n",
            "Current time is 14:18:09.623677\n"
          ]
        }
      ]
    },
    {
      "cell_type": "markdown",
      "source": [
        "#### Formatting time output"
      ],
      "metadata": {
        "id": "pW8JJ_9p9-uR"
      }
    },
    {
      "cell_type": "code",
      "source": [
        "from datetime import datetime\n",
        "def main():\n",
        "    # get current date and time\n",
        "    now = datetime.now()\n",
        "\n",
        "    # date formatting\n",
        "\n",
        "    # %y / %Y - Year, %a / %A - weekday, %b / %B - month, %d - day of month\n",
        "    print(now.strftime(\"The current year is: %y\"))\n",
        "    print(now.strftime(\"The current weekday is: %a\"))\n",
        "    print(now.strftime(\"The current month is: %b\"))\n",
        "    print(now.strftime(\"The current day is: %d\"))\n",
        "    print(now.strftime(\"The current date is: %D\"))\n",
        "    print(now.strftime(\"%a, %d, %B, %y\"))\n",
        "\n",
        "    # %c - local date and time, %x - local date , %X - local time\n",
        "    print(now.strftime(\"The local date and time is : %c\"))\n",
        "    print(now.strftime(\"The local date is : %x\"))\n",
        "    print(now.strftime(\"The local time is : %X\"))\n",
        "\n",
        "    # Time Formatting\n",
        "    # %I/%H - 12/24 hour, %M- minute, %S - second, %p local AM/ PM\n",
        "    print(now.strftime(\"current time: %I:%M:%S %p\"))\n",
        "    print(now.strftime(\"24 hour time: %H:%M\"))\n",
        "    \n",
        "if __name__ == \"__main__\":\n",
        "  main()"
      ],
      "metadata": {
        "id": "UA5SyVjT-DTJ",
        "colab": {
          "base_uri": "https://localhost:8080/"
        },
        "outputId": "7a66e078-3644-4f1e-8035-06858d673eef"
      },
      "execution_count": null,
      "outputs": [
        {
          "output_type": "stream",
          "name": "stdout",
          "text": [
            "The current year is: 22\n",
            "The current weekday is: Sun\n",
            "The current month is: Sep\n",
            "The current day is: 04\n",
            "The current date is: 09/04/22\n",
            "Sun, 04, September, 22\n",
            "The local date and time is : Sun Sep  4 13:29:43 2022\n",
            "The local date is : 09/04/22\n",
            "The local time is : 13:29:43\n",
            "current time: 01:29:43 PM\n",
            "24 hour time: 13:29\n"
          ]
        }
      ]
    },
    {
      "cell_type": "code",
      "source": [
        "# Using timedelta object\n",
        "from datetime import date\n",
        "from datetime import time\n",
        "from datetime import datetime\n",
        "from datetime import timedelta # it use for calculating time base math\n",
        "\n",
        "# # construct basic timedelta class and print it\n",
        "# print(timedelta(days= 365, hours = 5, minutes = 1))\n",
        "\n",
        "# # print todsy date\n",
        "# now= datetime.now()\n",
        "# print(\"Today's date : \", now)\n",
        "\n",
        "# # print today's date one year from now\n",
        "# print(\"one year from now it will be\", str(now + timedelta(days =356)))\n",
        "\n",
        "# #create a timedelta that uses more than one argument\n",
        "# print(\" In two week and 3 days it will be\", str(now + timedelta(weeks= 2, days=3)))\n",
        "\n",
        "# # claculate the date 1 week ago formatted as string\n",
        "# t = datetime.now() - timedelta(weeks =1)\n",
        "# s = t.strftime( \"%a %B %d, %y\")\n",
        "# print(\"1 Week ago it was\", s)\n",
        "\n",
        "### how may days until aprial fools day?\n",
        "today = date.today()\n",
        "afd = date(today.year, 4, 1)\n",
        "\n",
        "#use date comparison to see if april fool's has already gone for this year\n",
        "# if it has, use the replace() function to get the date for next year\n",
        "if afd < today:\n",
        "  print(\"April fools day already went by:\",(today - afd).days)\n",
        "  afd = afd.replace(year = today.year +1)\n",
        "\n",
        "# Now calculate the amount of thime until april fool's\n",
        "time_to_afd = afd - today\n",
        "print(\"Is is\", time_to_afd.days, \"days until the next april fools day!\")\n"
      ],
      "metadata": {
        "colab": {
          "base_uri": "https://localhost:8080/"
        },
        "id": "d2okyystsb6_",
        "outputId": "f2bea523-55c7-49bb-9c2b-038ecbbece15"
      },
      "execution_count": null,
      "outputs": [
        {
          "output_type": "stream",
          "name": "stdout",
          "text": [
            "April fools day already went by: 156\n",
            "Is is 209 days until the next april fools day!\n"
          ]
        }
      ]
    },
    {
      "cell_type": "markdown",
      "source": [
        "#### Working with calenders"
      ],
      "metadata": {
        "id": "PbOybLelaw0z"
      }
    },
    {
      "cell_type": "code",
      "source": [
        "# import calender modeule\n",
        "import calendar\n",
        "\n",
        "# create a plain text calendar\n",
        "# c= calendar.TextCalendar(calendar.MONDAY)\n",
        "# str = c.formatmonth(2022,1,0,0)\n",
        "# print(str)\n",
        "\n",
        "#Create an HTML formatted calendar\n",
        "# hc = calendar.HTMLCalendar(calendar.SUNDAY)\n",
        "# str = hc.formatmonth(2022,1)\n",
        "# print(str)\n",
        "\n",
        "#loop over the days of month\n",
        "#zeroes mean that the day of the week is in an overlapping month\n",
        "\n",
        "# for i in c.itermonthdates(2022, 8 ):\n",
        "#   print(i)\n",
        "\n",
        "# the Calendar moule provides useful utilities for the given locale\n",
        "# such as the name of days and month in  both full and abbreviated forms\n",
        "for name in calendar.month_name:\n",
        "  print(name)\n",
        "\n",
        "for day in calendar.day_name:\n",
        "  print(day)"
      ],
      "metadata": {
        "colab": {
          "base_uri": "https://localhost:8080/"
        },
        "id": "tvP3-Wmva4aQ",
        "outputId": "12eb48ad-7857-4d49-a343-eb871847d46d"
      },
      "execution_count": null,
      "outputs": [
        {
          "output_type": "stream",
          "name": "stdout",
          "text": [
            "\n",
            "January\n",
            "February\n",
            "March\n",
            "April\n",
            "May\n",
            "June\n",
            "July\n",
            "August\n",
            "September\n",
            "October\n",
            "November\n",
            "December\n",
            "Monday\n",
            "Tuesday\n",
            "Wednesday\n",
            "Thursday\n",
            "Friday\n",
            "Saturday\n",
            "Sunday\n"
          ]
        }
      ]
    },
    {
      "cell_type": "code",
      "source": [
        "# Claculate days based on a rule \n",
        "# A meeting in the first friday of every month\n",
        "# to figure out what days that would be for each month\n",
        "#we use this script\n",
        "\n",
        "print(\" Team meeting will be on:\")\n",
        "for m in range(1, 13):\n",
        "  cal = calendar.monthcalendar(2022, m)\n",
        "  weekone = cal[0]\n",
        "  weektwo= cal[1]\n",
        "  if weekone[calendar.FRIDAY] != 0:\n",
        "    weetday = weekone[calendar.FRIDAY]\n",
        "  else:\n",
        "    meetday = weektwo[calendar.FRIDAY]\n",
        "\n",
        "  print(calendar.month_name[m], meetday)"
      ],
      "metadata": {
        "colab": {
          "base_uri": "https://localhost:8080/"
        },
        "id": "ytiZpIrcfr39",
        "outputId": "c0fbb38a-7736-4404-9633-69b411c214c4"
      },
      "execution_count": null,
      "outputs": [
        {
          "output_type": "stream",
          "name": "stdout",
          "text": [
            " Team meeting will be on:\n",
            "January 7\n",
            "February 7\n",
            "March 7\n",
            "April 7\n",
            "May 6\n",
            "June 6\n",
            "July 6\n",
            "August 6\n",
            "September 6\n",
            "October 7\n",
            "November 7\n",
            "December 7\n"
          ]
        }
      ]
    },
    {
      "cell_type": "markdown",
      "source": [
        "#### Challenge : Date and time\n"
      ],
      "metadata": {
        "id": "FwbGrSN5ifIC"
      }
    },
    {
      "cell_type": "code",
      "source": [
        "import calendar\n",
        "\n",
        "def countdays(theyear, themonth, whichday):\n",
        "  daycount = 0\n",
        "  weeklist = calendar.monthcalendar(theyear, themonth)\n",
        "  for week in weeklist:\n",
        "    if week[whichday] !=0:\n",
        "      daycount+=1\n",
        "  return daycount\n",
        "       \n",
        "\n",
        "print(\"--Day counter program--\\n\")\n",
        "\n",
        "run = True\n",
        "while(run):\n",
        "  try:\n",
        "    print(\"Which day of the week do you want to count?\")\n",
        "    print(\"0: Monday\")\n",
        "    print(\"1: Tuesday\")\n",
        "    print(\"2: Wednesday\")\n",
        "    print(\"3: Thursday\")\n",
        "    print(\"4: Friday\")\n",
        "    print(\"5: Saturday\")\n",
        "    print(\"6: Sunday\")\n",
        "    print(\" or 'exit' to quit\")\n",
        "\n",
        "    theday = input(\"? \")\n",
        "    if theday == \"exit\":\n",
        "      run = False\n",
        "      break\n",
        "    day = int(theday)\n",
        "\n",
        "    yearstr = input(\"Enter year: \" )\n",
        "    year = int(yearstr)\n",
        "\n",
        "    monthstr = input(\"Enter month: \")\n",
        "    month = int(monthstr)\n",
        "\n",
        "    result = countdays(year, month, day)\n",
        "    print(\"there are \" + str(result) + \" of those days in month and year specifird\")\n",
        "    print(\"------------\\n\")\n",
        "\n",
        "  except Exception as e:\n",
        "    print(e)\n",
        "    print(\"Sorry thats not a valid input\")"
      ],
      "metadata": {
        "colab": {
          "base_uri": "https://localhost:8080/"
        },
        "id": "5Oso1rekinjZ",
        "outputId": "34908364-b686-4a55-ebcd-7e01a3bfae26"
      },
      "execution_count": null,
      "outputs": [
        {
          "name": "stdout",
          "output_type": "stream",
          "text": [
            "--Day counter program--\n",
            "\n",
            "Which day of the week do you want to count?\n",
            "0: Monday\n",
            "1: Tuesday\n",
            "2: Wednesday\n",
            "3: Thursday\n",
            "4: Friday\n",
            "5: Saturday\n",
            "6: Sunday\n",
            " or 'exit' to quit\n",
            "? exxit\n",
            "invalid literal for int() with base 10: 'exxit'\n",
            "Sorry thats not a valid input\n",
            "Which day of the week do you want to count?\n",
            "0: Monday\n",
            "1: Tuesday\n",
            "2: Wednesday\n",
            "3: Thursday\n",
            "4: Friday\n",
            "5: Saturday\n",
            "6: Sunday\n",
            " or 'exit' to quit\n",
            "? exit\n"
          ]
        }
      ]
    },
    {
      "cell_type": "markdown",
      "source": [
        "#### Formatting internet data"
      ],
      "metadata": {
        "id": "faMw-ENfa1Fh"
      }
    },
    {
      "cell_type": "code",
      "source": [
        "# import data from web server\n",
        "import urllib.request\n",
        "\n",
        "def main():\n",
        "  weburl = urllib.request.urlopen(\"http://www.google.com\")\n",
        "  print(\"result code\", weburl.getcode())\n",
        "  data = weburl.read()\n",
        "  print(data)\n",
        "if __name__ == \"__main__\":\n",
        "  main()"
      ],
      "metadata": {
        "colab": {
          "base_uri": "https://localhost:8080/"
        },
        "id": "33VZ9IF2ba2i",
        "outputId": "da3ecff0-60bc-4290-a831-b7e4469acd18"
      },
      "execution_count": null,
      "outputs": [
        {
          "output_type": "stream",
          "name": "stdout",
          "text": [
            "result code 200\n",
            "b'<!doctype html><html itemscope=\"\" itemtype=\"http://schema.org/WebPage\" lang=\"en\"><head><meta content=\"Search the world\\'s information, including webpages, images, videos and more. Google has many special features to help you find exactly what you\\'re looking for.\" name=\"description\"><meta content=\"noodp\" name=\"robots\"><meta content=\"text/html; charset=UTF-8\" http-equiv=\"Content-Type\"><meta content=\"/images/branding/googleg/1x/googleg_standard_color_128dp.png\" itemprop=\"image\"><title>Google</title><script nonce=\"wU5rYQRus3In_kipgHv3oQ\">(function(){window.google={kEI:\\'2-UWY_bcA6OawbkP672vuAU\\',kEXPI:\\'0,1302536,56873,6058,207,4804,2316,383,246,5,5367,1123753,1197719,675,80,380017,16114,28684,17572,4858,1362,9291,3028,17580,4998,13228,3847,10622,12445,10296,6674,1279,2742,149,1103,841,1982,4314,109,3405,606,2023,1777,520,14670,3227,2845,7,24990,8780,8249,8926,432,3,1590,1,5445,148,11323,2652,4,1528,2304,7039,22023,3050,2658,7182,175,13658,2980,1457,15351,1435,5824,2533,4094,17,4035,3,3541,1,42154,2,14022,2373,342,3534,7867,9865,1758,6700,951,1429,28742,4568,6258,23418,1252,5835,14967,4333,2204,2083,730,2467,445,2,2,1,10957,15675,8155,6582,799,2,3,14675,1290,872,7829,1797,5262,4746,7,1922,9779,23,20616,1140,2644,6898,4833,1520,4242,1209,963,1091,3999,3008,983,123,700,4,1,2,2,2,2,1440,5651,1,301,836,172,1179,4336,88,612,507,239,1598,486,1248,1773,477,2280,1081,571,3913,14,82,332,320,2,296,924,2015,127,625,446,1624,1468,3,1126,543,143,635,64,4,1457,160,1246,321,1,321,1693,345,27,246,386,1128,21,72,987,757,20,1,4,1,17,407,66,1,158,122,17,585,29,11,514,233,99,528,49,181,710,765,1536,4148,32,81,239,211,251,337,613,350,5354789,465,239,8799318,3311,141,795,19735,1,303,44,1324,7,105,4,32,23949013,4042142,1964,1008,2086,13578,3406,5540,3363,12,1331,1375095,47701\\',kBL:\\'BR-G\\'};google.sn=\\'webhp\\';google.kHL=\\'en\\';})();(function(){\\nvar f=this||self;var h,k=[];function l(a){for(var b;a&&(!a.getAttribute||!(b=a.getAttribute(\"eid\")));)a=a.parentNode;return b||h}function m(a){for(var b=null;a&&(!a.getAttribute||!(b=a.getAttribute(\"leid\")));)a=a.parentNode;return b}\\nfunction n(a,b,c,d,g){var e=\"\";c||-1!==b.search(\"&ei=\")||(e=\"&ei=\"+l(d),-1===b.search(\"&lei=\")&&(d=m(d))&&(e+=\"&lei=\"+d));d=\"\";!c&&f._cshid&&-1===b.search(\"&cshid=\")&&\"slh\"!==a&&(d=\"&cshid=\"+f._cshid);c=c||\"/\"+(g||\"gen_204\")+\"?atyp=i&ct=\"+a+\"&cad=\"+b+e+\"&zx=\"+Date.now()+d;/^http:/i.test(c)&&\"https:\"===window.location.protocol&&(google.ml&&google.ml(Error(\"a\"),!1,{src:c,glmm:1}),c=\"\");return c};h=google.kEI;google.getEI=l;google.getLEI=m;google.ml=function(){return null};google.log=function(a,b,c,d,g){if(c=n(a,b,c,d,g)){a=new Image;var e=k.length;k[e]=a;a.onerror=a.onload=a.onabort=function(){delete k[e]};a.src=c}};google.logUrl=n;}).call(this);(function(){\\ngoogle.y={};google.sy=[];google.x=function(a,b){if(a)var c=a.id;else{do c=Math.random();while(google.y[c])}google.y[c]=[a,b];return!1};google.sx=function(a){google.sy.push(a)};google.lm=[];google.plm=function(a){google.lm.push.apply(google.lm,a)};google.lq=[];google.load=function(a,b,c){google.lq.push([[a],b,c])};google.loadAll=function(a,b){google.lq.push([a,b])};google.bx=!1;google.lx=function(){};}).call(this);google.f={};(function(){\\ndocument.documentElement.addEventListener(\"submit\",function(b){var a;if(a=b.target){var c=a.getAttribute(\"data-submitfalse\");a=\"1\"===c||\"q\"===c&&!a.elements.q.value?!0:!1}else a=!1;a&&(b.preventDefault(),b.stopPropagation())},!0);document.documentElement.addEventListener(\"click\",function(b){var a;a:{for(a=b.target;a&&a!==document.documentElement;a=a.parentElement)if(\"A\"===a.tagName){a=\"1\"===a.getAttribute(\"data-nohref\");break a}a=!1}a&&b.preventDefault()},!0);}).call(this);</script><style>#gbar,#guser{font-size:13px;padding-top:1px !important;}#gbar{height:22px}#guser{padding-bottom:7px !important;text-align:right}.gbh,.gbd{border-top:1px solid #c9d7f1;font-size:1px}.gbh{height:0;position:absolute;top:24px;width:100%}@media all{.gb1{height:22px;margin-right:.5em;vertical-align:top}#gbar{float:left}}a.gb1,a.gb4{text-decoration:underline !important}a.gb1,a.gb4{color:#00c !important}.gbi .gb4{color:#dd8e27 !important}.gbf .gb4{color:#900 !important}\\n</style><style>body,td,a,p,.h{font-family:arial,sans-serif}body{margin:0;overflow-y:scroll}#gog{padding:3px 8px 0}td{line-height:.8em}.gac_m td{line-height:17px}form{margin-bottom:20px}.h{color:#1558d6}em{font-weight:bold;font-style:normal}.lst{height:25px;width:496px}.gsfi,.lst{font:18px arial,sans-serif}.gsfs{font:17px arial,sans-serif}.ds{display:inline-box;display:inline-block;margin:3px 0 4px;margin-left:4px}input{font-family:inherit}body{background:#fff;color:#000}a{color:#4b11a8;text-decoration:none}a:hover,a:active{text-decoration:underline}.fl a{color:#1558d6}a:visited{color:#4b11a8}.sblc{padding-top:5px}.sblc a{display:block;margin:2px 0;margin-left:13px;font-size:11px}.lsbb{background:#f8f9fa;border:solid 1px;border-color:#dadce0 #70757a #70757a #dadce0;height:30px}.lsbb{display:block}#WqQANb a{display:inline-block;margin:0 12px}.lsb{background:url(/images/nav_logo229.png) 0 -261px repeat-x;border:none;color:#000;cursor:pointer;height:30px;margin:0;outline:0;font:15px arial,sans-serif;vertical-align:top}.lsb:active{background:#dadce0}.lst:focus{outline:none}</style><script nonce=\"wU5rYQRus3In_kipgHv3oQ\">(function(){window.google.erd={jsr:1,bv:1648,de:true};\\nvar h=this||self;var k,l=null!=(k=h.mei)?k:1,n,p=null!=(n=h.sdo)?n:!0,q=0,r,t=google.erd,v=t.jsr;google.ml=function(a,b,d,m,e){e=void 0===e?2:e;b&&(r=a&&a.message);if(google.dl)return google.dl(a,e,d),null;if(0>v){window.console&&console.error(a,d);if(-2===v)throw a;b=!1}else b=!a||!a.message||\"Error loading script\"===a.message||q>=l&&!m?!1:!0;if(!b)return null;q++;d=d||{};b=encodeURIComponent;var c=\"/gen_204?atyp=i&ei=\"+b(google.kEI);google.kEXPI&&(c+=\"&jexpid=\"+b(google.kEXPI));c+=\"&srcpg=\"+b(google.sn)+\"&jsr=\"+b(t.jsr)+\"&bver=\"+b(t.bv);var f=a.lineNumber;void 0!==f&&(c+=\"&line=\"+f);var g=\\na.fileName;g&&(0<g.indexOf(\"-extension:/\")&&(e=3),c+=\"&script=\"+b(g),f&&g===window.location.href&&(f=document.documentElement.outerHTML.split(\"\\\\n\")[f],c+=\"&cad=\"+b(f?f.substring(0,300):\"No script found.\")));c+=\"&jsel=\"+e;for(var u in d)c+=\"&\",c+=b(u),c+=\"=\",c+=b(d[u]);c=c+\"&emsg=\"+b(a.name+\": \"+a.message);c=c+\"&jsst=\"+b(a.stack||\"N/A\");12288<=c.length&&(c=c.substr(0,12288));a=c;m||google.log(0,\"\",a);return a};window.onerror=function(a,b,d,m,e){r!==a&&(a=e instanceof Error?e:Error(a),void 0===d||\"lineNumber\"in a||(a.lineNumber=d),void 0===b||\"fileName\"in a||(a.fileName=b),google.ml(a,!1,void 0,!1,\"SyntaxError\"===a.name||\"SyntaxError\"===a.message.substring(0,11)||0<a.message.indexOf(\"Script error\")?2:0));r=null;p&&q>=l&&(window.onerror=null)};})();</script></head><body bgcolor=\"#fff\"><script nonce=\"wU5rYQRus3In_kipgHv3oQ\">(function(){var src=\\'/images/nav_logo229.png\\';var iesg=false;document.body.onload = function(){window.n && window.n();if (document.images){new Image().src=src;}\\nif (!iesg){document.f&&document.f.q.focus();document.gbqf&&document.gbqf.q.focus();}\\n}\\n})();</script><div id=\"mngb\"><div id=gbar><nobr><b class=gb1>Search</b> <a class=gb1 href=\"http://www.google.com/imghp?hl=en&tab=wi\">Images</a> <a class=gb1 href=\"http://maps.google.com/maps?hl=en&tab=wl\">Maps</a> <a class=gb1 href=\"https://play.google.com/?hl=en&tab=w8\">Play</a> <a class=gb1 href=\"https://www.youtube.com/?tab=w1\">YouTube</a> <a class=gb1 href=\"https://news.google.com/?tab=wn\">News</a> <a class=gb1 href=\"https://mail.google.com/mail/?tab=wm\">Gmail</a> <a class=gb1 href=\"https://drive.google.com/?tab=wo\">Drive</a> <a class=gb1 style=\"text-decoration:none\" href=\"https://www.google.com/intl/en/about/products?tab=wh\"><u>More</u> &raquo;</a></nobr></div><div id=guser width=100%><nobr><span id=gbn class=gbi></span><span id=gbf class=gbf></span><span id=gbe></span><a href=\"http://www.google.com/history/optout?hl=en\" class=gb4>Web History</a> | <a  href=\"/preferences?hl=en\" class=gb4>Settings</a> | <a target=_top id=gb_70 href=\"https://accounts.google.com/ServiceLogin?hl=en&passive=true&continue=http://www.google.com/&ec=GAZAAQ\" class=gb4>Sign in</a></nobr></div><div class=gbh style=left:0></div><div class=gbh style=right:0></div></div><center><br clear=\"all\" id=\"lgpd\"><div id=\"lga\"><img alt=\"Google\" height=\"92\" src=\"/images/branding/googlelogo/1x/googlelogo_white_background_color_272x92dp.png\" style=\"padding:28px 0 14px\" width=\"272\" id=\"hplogo\"><br><br></div><form action=\"/search\" name=\"f\"><table cellpadding=\"0\" cellspacing=\"0\"><tr valign=\"top\"><td width=\"25%\">&nbsp;</td><td align=\"center\" nowrap=\"\"><input name=\"ie\" value=\"ISO-8859-1\" type=\"hidden\"><input value=\"en\" name=\"hl\" type=\"hidden\"><input name=\"source\" type=\"hidden\" value=\"hp\"><input name=\"biw\" type=\"hidden\"><input name=\"bih\" type=\"hidden\"><div class=\"ds\" style=\"height:32px;margin:4px 0\"><input class=\"lst\" style=\"margin:0;padding:5px 8px 0 6px;vertical-align:top;color:#000\" autocomplete=\"off\" value=\"\" title=\"Google Search\" maxlength=\"2048\" name=\"q\" size=\"57\"></div><br style=\"line-height:0\"><span class=\"ds\"><span class=\"lsbb\"><input class=\"lsb\" value=\"Google Search\" name=\"btnG\" type=\"submit\"></span></span><span class=\"ds\"><span class=\"lsbb\"><input class=\"lsb\" id=\"tsuid_1\" value=\"I\\'m Feeling Lucky\" name=\"btnI\" type=\"submit\"><script nonce=\"wU5rYQRus3In_kipgHv3oQ\">(function(){var id=\\'tsuid_1\\';document.getElementById(id).onclick = function(){if (this.form.q.value){this.checked = 1;if (this.form.iflsig)this.form.iflsig.disabled = false;}\\nelse top.location=\\'/doodles/\\';};})();</script><input value=\"AJiK0e8AAAAAYxbz6--OqCBUi1o3NM3kiA_3MwIw8XrH\" name=\"iflsig\" type=\"hidden\"></span></span></td><td class=\"fl sblc\" align=\"left\" nowrap=\"\" width=\"25%\"><a href=\"/advanced_search?hl=en&amp;authuser=0\">Advanced search</a></td></tr></table><input id=\"gbv\" name=\"gbv\" type=\"hidden\" value=\"1\"><script nonce=\"wU5rYQRus3In_kipgHv3oQ\">(function(){\\nvar a,b=\"1\";if(document&&document.getElementById)if(\"undefined\"!=typeof XMLHttpRequest)b=\"2\";else if(\"undefined\"!=typeof ActiveXObject){var c,d,e=[\"MSXML2.XMLHTTP.6.0\",\"MSXML2.XMLHTTP.3.0\",\"MSXML2.XMLHTTP\",\"Microsoft.XMLHTTP\"];for(c=0;d=e[c++];)try{new ActiveXObject(d),b=\"2\"}catch(h){}}a=b;if(\"2\"==a&&-1==location.search.indexOf(\"&gbv=2\")){var f=google.gbvu,g=document.getElementById(\"gbv\");g&&(g.value=a);f&&window.setTimeout(function(){location.href=f},0)};}).call(this);</script></form><div id=\"gac_scont\"></div><div style=\"font-size:83%;min-height:3.5em\"><br></div><span id=\"footer\"><div style=\"font-size:10pt\"><div style=\"margin:19px auto;text-align:center\" id=\"WqQANb\"><a href=\"/intl/en/ads/\">Advertising\\xa0Programs</a><a href=\"/services/\">Business Solutions</a><a href=\"/intl/en/about.html\">About Google</a></div></div><p style=\"font-size:8pt;color:#70757a\">&copy; 2022 - <a href=\"/intl/en/policies/privacy/\">Privacy</a> - <a href=\"/intl/en/policies/terms/\">Terms</a></p></span></center><script nonce=\"wU5rYQRus3In_kipgHv3oQ\">(function(){window.google.cdo={height:757,width:1440};(function(){\\nvar a=window.innerWidth,b=window.innerHeight;if(!a||!b){var c=window.document,d=\"CSS1Compat\"==c.compatMode?c.documentElement:c.body;a=d.clientWidth;b=d.clientHeight}a&&b&&(a!=google.cdo.width||b!=google.cdo.height)&&google.log(\"\",\"\",\"/client_204?&atyp=i&biw=\"+a+\"&bih=\"+b+\"&ei=\"+google.kEI);}).call(this);})();</script> <script nonce=\"wU5rYQRus3In_kipgHv3oQ\">(function(){google.xjs={ck:\\'xjs.hp.nAt8mkHlvVw.L.X.O\\',cs:\\'ACT90oGKIf6eR2fHhDPQdsCLdbCmJYtwqg\\',excm:[]};})();</script>  <script nonce=\"wU5rYQRus3In_kipgHv3oQ\">(function(){var u=\\'/xjs/_/js/k\\\\x3dxjs.hp.en_US.M-3u9_jcs2A.O/am\\\\x3dAACeAAAkAEAB/d\\\\x3d1/ed\\\\x3d1/rs\\\\x3dACT90oFtqxCNsQvkAD_aQm9JdRJ5LFg8oQ/m\\\\x3dsb_he,d\\';\\nvar d=this||self,e=function(a){return a};\\nvar g;var l=function(a,b){this.g=b===h?a:\"\"};l.prototype.toString=function(){return this.g+\"\"};var h={};function n(){var a=u;google.lx=function(){p(a);google.lx=function(){}};google.bx||google.lx()}\\nfunction p(a){google.timers&&google.timers.load&&google.tick&&google.tick(\"load\",\"xjsls\");var b=document;var c=\"SCRIPT\";\"application/xhtml+xml\"===b.contentType&&(c=c.toLowerCase());c=b.createElement(c);if(void 0===g){b=null;var k=d.trustedTypes;if(k&&k.createPolicy){try{b=k.createPolicy(\"goog#html\",{createHTML:e,createScript:e,createScriptURL:e})}catch(q){d.console&&d.console.error(q.message)}g=b}else g=b}a=(b=g)?b.createScriptURL(a):a;a=new l(a,h);c.src=a instanceof l&&a.constructor===l?a.g:\"type_error:TrustedResourceUrl\";var f,m;(f=(a=null==(m=(f=(c.ownerDocument&&c.ownerDocument.defaultView||window).document).querySelector)?void 0:m.call(f,\"script[nonce]\"))?a.nonce||a.getAttribute(\"nonce\")||\"\":\"\")&&c.setAttribute(\"nonce\",f);document.body.appendChild(c);google.psa=!0};google.xjsu=u;setTimeout(function(){n()},0);})();function _DumpException(e){throw e;}\\nfunction _F_installCss(c){}\\n(function(){google.jl={blt:\\'none\\',chnk:0,dw:false,dwu:true,emtn:0,end:0,ine:false,injs:\\'none\\',injt:0,injth:0,injv2:false,lls:\\'default\\',pdt:0,rep:0,snet:true,strt:0,ubm:false,uwp:true};})();(function(){var pmc=\\'{\\\\x22d\\\\x22:{},\\\\x22sb_he\\\\x22:{\\\\x22agen\\\\x22:true,\\\\x22cgen\\\\x22:true,\\\\x22client\\\\x22:\\\\x22heirloom-hp\\\\x22,\\\\x22dh\\\\x22:true,\\\\x22dhqt\\\\x22:true,\\\\x22ds\\\\x22:\\\\x22\\\\x22,\\\\x22ffql\\\\x22:\\\\x22en\\\\x22,\\\\x22fl\\\\x22:true,\\\\x22host\\\\x22:\\\\x22google.com\\\\x22,\\\\x22isbh\\\\x22:28,\\\\x22jsonp\\\\x22:true,\\\\x22msgs\\\\x22:{\\\\x22cibl\\\\x22:\\\\x22Clear Search\\\\x22,\\\\x22dym\\\\x22:\\\\x22Did you mean:\\\\x22,\\\\x22lcky\\\\x22:\\\\x22I\\\\\\\\u0026#39;m Feeling Lucky\\\\x22,\\\\x22lml\\\\x22:\\\\x22Learn more\\\\x22,\\\\x22oskt\\\\x22:\\\\x22Input tools\\\\x22,\\\\x22psrc\\\\x22:\\\\x22This search was removed from your \\\\\\\\u003Ca href\\\\x3d\\\\\\\\\\\\x22/history\\\\\\\\\\\\x22\\\\\\\\u003EWeb History\\\\\\\\u003C/a\\\\\\\\u003E\\\\x22,\\\\x22psrl\\\\x22:\\\\x22Remove\\\\x22,\\\\x22sbit\\\\x22:\\\\x22Search by image\\\\x22,\\\\x22srch\\\\x22:\\\\x22Google Search\\\\x22},\\\\x22ovr\\\\x22:{},\\\\x22pq\\\\x22:\\\\x22\\\\x22,\\\\x22refpd\\\\x22:true,\\\\x22rfs\\\\x22:[],\\\\x22sbas\\\\x22:\\\\x220 3px 8px 0 rgba(0,0,0,0.2),0 0 0 1px rgba(0,0,0,0.08)\\\\x22,\\\\x22sbpl\\\\x22:16,\\\\x22sbpr\\\\x22:16,\\\\x22scd\\\\x22:10,\\\\x22stok\\\\x22:\\\\x22nWmeUB3cwSPDbxB5XQ5r48pzOCo\\\\x22,\\\\x22uhde\\\\x22:false}}\\';google.pmc=JSON.parse(pmc);})();</script>        </body></html>'\n"
          ]
        }
      ]
    },
    {
      "cell_type": "code",
      "source": [
        "# Working with JSON Data\n",
        "import urllib.request\n",
        "import json\n",
        "\n",
        "def printResults(data):\n",
        "  # use json module to load the string data into a dictionary\n",
        "  theJSON = json.loads(data)\n",
        "\n",
        "  # Now we can access the contents of JSON\n",
        "  if \"title\" in theJSON[\"metadata\"]:\n",
        "    print(theJSON[\"metadata\"][\"title\"])\n",
        "    print(\"-------------------------------\\n\")\n",
        "\n",
        "  # output the number of event, plus file magnitude and each event name\n",
        "  count = theJSON[\"metadata\"][\"count\"]\n",
        "  print(count, \"events recorded\")\n",
        "  print(\"---------------------------------\\n\")\n",
        "\n",
        "  # for each event, print the place where it occured\n",
        "  for i in theJSON[\"features\"]:\n",
        "    print(i[\"properties\"][\"place\"])\n",
        "  print(\"--------------------------------\\n\")\n",
        "\n",
        "  # print the event that only have a magnitude greater than 4\n",
        "  for i in theJSON[\"features\"]:\n",
        "    if i[\"properties\"][\"mag\"]>= 4.0:\n",
        "      print(i[\"properties\"][\"place\"])\n",
        "  print(\"-------------------------------\\n\")\n",
        "\n",
        "  # print onle the event where at last 1 person report feeling something\n",
        "  print('\\nEvent that were felt:')\n",
        "  for i in theJSON[\"features\"]:\n",
        "    feltReport = i[\"properties\"][\"felt\"]\n",
        "    if feltReport != None:\n",
        "      if feltReport >0:\n",
        "        print(i[\"properties\"][\"place\"], feltReport, \"times\")\n",
        "\n",
        "\n",
        "def main():\n",
        "  #define a variable to hold the source URL\n",
        "  # In this case we'll use the free data feed from the USGS\n",
        "  # This feed lists all earthquake for the last day larger than Mag 2.5\n",
        "  urlData = \"https://earthquake.usgs.gov/earthquakes/feed/v1.0/summary/2.5_day.geojson\"\n",
        "\n",
        "  # URL and read the data\n",
        "  webUrl = urllib.request.urlopen(urlData)\n",
        "  print(\"request code: \"+ str(webUrl.getcode()))\n",
        "  if (webUrl.getcode()==200):\n",
        "    data = webUrl.read()\n",
        "    printResults(data)\n",
        "  else:\n",
        "    print(\"Error: Received an error from the server, cannt print result\", webUril.getcode())\n",
        "\n",
        "if __name__ == \"__main__\":\n",
        "  main()"
      ],
      "metadata": {
        "id": "6Rt8ZoExcqPS"
      },
      "execution_count": null,
      "outputs": []
    },
    {
      "cell_type": "code",
      "source": [
        "# Parsing and Processing HTML\n",
        "from html.parser import HTMLParser\n",
        "\n",
        "class MyHTMLParser(HTMLParser):\n",
        "  def handle_comments(self, data):\n",
        "    print(\"Encountered a comment:\", data)\n",
        "    pos = self.getpos()\n",
        "    print(\"At line: \", pos[0], \"position: \", pos[1])\n",
        "\n",
        "  def handle_starttag(self, tag, attrs): \n",
        "    print(\"Encountered a syat tag:\", tag)\n",
        "    pos = self.getpos()\n",
        "    print(\"At line: \", pos[0], \"position: \", pos[1])\n",
        "\n",
        "    global paragraphs\n",
        "    if tag == \"p\":\n",
        "      paragraphs += 1\n",
        "\n",
        "    if len(attrs) >0:\n",
        "      print(\"Attributes:\")\n",
        "      for a in attrs:\n",
        "        print(\"\\t\", a[0], \"=\", a[1])\n",
        "\n",
        "  def handle_data(self, data):\n",
        "    if data.isspace():\n",
        "      return\n",
        "    print(\"Encountered a text data:\", data)\n",
        "    pos = self.getpos()\n",
        "    print(\"At line: \", pos[0], \"position: \", pos[1])\n",
        "\n",
        "\n",
        "def main():\n",
        "  # instantiate the parsed and feed it some HTML\n",
        "  parsed = MyHTMLParser()\n",
        "\n",
        "  f = open(\"samplehtml.html\")\n",
        "  if f.mode == \"r\":\n",
        "    content = f.read() # read the entire file\n",
        "    parser.feed(contents)\n",
        "\n",
        "  print(\"Paragraph tags: \", paragraphs)\n",
        "\n",
        "if __name__ == \"__main__\":\n",
        "  main()"
      ],
      "metadata": {
        "id": "XVKHt0c4noMA"
      },
      "execution_count": null,
      "outputs": []
    },
    {
      "cell_type": "code",
      "source": [
        "# Manipulating XML\n",
        "import xml.dom.minidom\n",
        "def main():\n",
        "  # use the parse() function to load and parse an XML file\n",
        "  doc = xml.dom.minidom.parse(\"samplexml.xml\")\n",
        "\n",
        "  #print out the document node and the name of the first child tag\n",
        "  print(doc.nodeName)\n",
        "  print(doc.firstchild.tagName)\n",
        "\n",
        "  #get a list of XML tags from the document and print each one\n",
        "  skills = doc.getElementsByTagName(\"skill\")\n",
        "  print(skills.length, \"skill are listed\")\n",
        "  for skill in skills:\n",
        "    print(skill.getAttribute(\"name\")) \n",
        "  \n",
        "  #create a new XML tag and add it into the document\n",
        "  newSkill = doc.createElement(\"skill\")\n",
        "  newSkill.setAttribute(\"name\", \"jQuery\")\n",
        "  doc.firstchild.appendChild(newSkill)\n",
        "\n",
        "  skills = doc.getElementsByTagName(\"skill\")\n",
        "  print(skills.length, \"skill are listed\")\n",
        "  for skill in skills:\n",
        "    print(skill.getAttribute(\"name\")) \n",
        "  \n",
        "if __name__ == \"__main__\":\n",
        "  main()"
      ],
      "metadata": {
        "id": "iEzs8mcBtqxB"
      },
      "execution_count": null,
      "outputs": []
    }
  ]
}