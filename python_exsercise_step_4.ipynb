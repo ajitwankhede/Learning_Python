{
 "cells": [
  {
   "cell_type": "code",
   "execution_count": 3,
   "id": "9ba6a98c",
   "metadata": {},
   "outputs": [
    {
     "name": "stdout",
     "output_type": "stream",
     "text": [
      "Hello World !!\n",
      "Hello World !!\n"
     ]
    }
   ],
   "source": [
    "# Write a python program to define a module and import a  specific\n",
    "# function in that module to another program\n",
    "'''\n",
    "    A module is simply a Python file with the .py extension.\n",
    "    the name of file becomes the module name. Inside the file, we can have defibation and implementation of classes, variables,\n",
    "    or functions. these can be use as python programs.\n",
    "'''\n",
    "\n",
    "'''let us begin by creating s function that simply prints \"Hello World\" '''\n",
    "\n",
    "### Check HelloWorld.py file\n",
    "\n",
    "# make call for module\n",
    "\n",
    "import HelloWorld\n",
    "HelloWorld.myFunction() # Dot Notation which allows us to call function by first specifying the module name and then the name of function.\n",
    "\n",
    "# Opetional method\n",
    "from HelloWorld import myFunction\n",
    "myFunction()"
   ]
  },
  {
   "cell_type": "code",
   "execution_count": 4,
   "id": "2548ca6c",
   "metadata": {},
   "outputs": [
    {
     "name": "stdout",
     "output_type": "stream",
     "text": [
      "Enter the input file name with extension: text1.txt\n",
      "Enter the output file name with extension: text2.txt\n"
     ]
    }
   ],
   "source": [
    "# Write a script name copyfile.py\n",
    "# This script should prompt the user for names of two text files.\n",
    "# the contents of the first file should be input and written to the second file.\n",
    "\n",
    "'''\n",
    "    Create a file name \"CopyFile.py\"\n",
    "    import it as module.\n",
    "'''\n",
    "\n",
    "from CopyFile import copyfile\n",
    "copyfile()"
   ]
  },
  {
   "cell_type": "code",
   "execution_count": 3,
   "id": "134565a5",
   "metadata": {},
   "outputs": [
    {
     "name": "stdout",
     "output_type": "stream",
     "text": [
      "Earth.\n",
      "It\n",
      "Solar\n",
      "Sun\n",
      "System.\n",
      "The\n",
      "a\n",
      "and\n",
      "as\n",
      "at\n",
      "ball\n",
      "by\n",
      "center\n",
      "core.\n",
      "energy\n",
      "for\n",
      "fusion\n",
      "heated\n",
      "hot\n",
      "important\n",
      "in\n",
      "incandescence\n",
      "infrared\n",
      "is\n",
      "its\n",
      "life\n",
      "light,\n",
      "mainly\n",
      "most\n",
      "nearly\n",
      "nuclear\n",
      "of\n",
      "on\n",
      "perfect\n",
      "plasma,[18][19]\n",
      "radiates\n",
      "radiation,\n",
      "reactions\n",
      "source\n",
      "star\n",
      "the\n",
      "this\n",
      "to\n",
      "ultraviolet,\n"
     ]
    }
   ],
   "source": [
    "# Write a program that inputs a txt file\n",
    "# The program should print all of the unique words in the file in alphabetical order.\n",
    "'''\n",
    "    create module for seperste unique words and arrange it in Alphabetical order\n",
    "'''\n",
    "# import module\n",
    "from unique_file import unique_file\n",
    "\n",
    "unique_alpha_file('sample.txt', 'unique_output.txt')\n",
    "\n",
    "for line in sorted(open('unique_output.txt')): # sorting words in Alphabetical order\n",
    "    print(line, end=\"\")"
   ]
  },
  {
   "cell_type": "code",
   "execution_count": 11,
   "id": "4ef9d164",
   "metadata": {},
   "outputs": [
    {
     "name": "stdout",
     "output_type": "stream",
     "text": [
      "XXI\n"
     ]
    }
   ],
   "source": [
    "# Write a python class to convert an intrger to a roman numeral\n",
    "\n",
    "class py_solution:\n",
    "    def int_to_Roman(self, num):\n",
    "        val = [\n",
    "            1000, 900, 500, 400,\n",
    "            100, 90, 50, 40,\n",
    "            10, 9, 5, 4,\n",
    "            1\n",
    "            ]\n",
    "        syb = [\n",
    "            \"M\", \"CM\", \"D\", \"CD\",\n",
    "            \"C\", \"XC\", \"L\", \"XL\",\n",
    "            \"X\", \"IX\", \"V\", \"IV\",\n",
    "            \"I\"\n",
    "            ]\n",
    "        \n",
    "        roman_num = ''\n",
    "        i = 0\n",
    "        while num > 0:\n",
    "            for _ in range(num// val[i]):\n",
    "                roman_num += syb[i]\n",
    "                num -= val[i]\n",
    "            i +=1\n",
    "        return roman_num\n",
    "\n",
    "print(py_solution().int_to_Roman(21))"
   ]
  },
  {
   "cell_type": "code",
   "execution_count": 2,
   "id": "e46ccb1b",
   "metadata": {},
   "outputs": [
    {
     "name": "stdout",
     "output_type": "stream",
     "text": [
      "8\n"
     ]
    }
   ],
   "source": [
    "# Write a python class to implement pow(x,n)\n",
    "\n",
    "def Power(x, y):\n",
    "    if (y==0):\n",
    "        return 1\n",
    "    elif (int(y%2) == 0):\n",
    "        return (Power(x, int(y/2)) * Power(x, int(y/2)))\n",
    "    else:\n",
    "        return (x * Power(x, int(y/2)) * Power(x, int(y/2)))\n",
    "\n",
    "# driver code \n",
    "x = 2\n",
    "y = 3\n",
    "print( Power(x, y))"
   ]
  },
  {
   "cell_type": "code",
   "execution_count": 5,
   "id": "490b918d",
   "metadata": {},
   "outputs": [
    {
     "name": "stdout",
     "output_type": "stream",
     "text": [
      "Python to Welcome\n"
     ]
    }
   ],
   "source": [
    "# Write a python class to reverse a string word by word\n",
    "'''\n",
    "    1. create class Revert\n",
    "    2. define function inside class \n",
    "    3. Now we have to split the aentence into a list of words\n",
    "        and to form the new sentence join() is using for joining the words in list\n",
    "    4. at last print Reverse().reverse_word(\"Welcome to Python\") to get output\n",
    "'''\n",
    "class Reverse:\n",
    "    def reverse_word(self, str):\n",
    "        return ' '.join(reversed(str.split()))\n",
    "\n",
    "print(Reverse().reverse_word(\"Welcome to Python\"))"
   ]
  }
 ],
 "metadata": {
  "kernelspec": {
   "display_name": "Python 3 (ipykernel)",
   "language": "python",
   "name": "python3"
  },
  "language_info": {
   "codemirror_mode": {
    "name": "ipython",
    "version": 3
   },
   "file_extension": ".py",
   "mimetype": "text/x-python",
   "name": "python",
   "nbconvert_exporter": "python",
   "pygments_lexer": "ipython3",
   "version": "3.8.8"
  }
 },
 "nbformat": 4,
 "nbformat_minor": 5
}
