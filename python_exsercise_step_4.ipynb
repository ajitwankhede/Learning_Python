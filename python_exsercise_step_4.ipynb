{
 "cells": [
  {
   "cell_type": "code",
   "execution_count": 3,
   "id": "9ba6a98c",
   "metadata": {},
   "outputs": [
    {
     "name": "stdout",
     "output_type": "stream",
     "text": [
      "Hello World !!\n",
      "Hello World !!\n"
     ]
    }
   ],
   "source": [
    "# Write a python program to define a module and import a  specific\n",
    "# function in that module to another program\n",
    "'''\n",
    "    A module is simply a Python file with the .py extension.\n",
    "    the name of file becomes the module name. Inside the file, we can have defibation and implementation of classes, variables,\n",
    "    or functions. these can be use as python programs.\n",
    "'''\n",
    "\n",
    "'''let us begin by creating s function that simply prints \"Hello World\" '''\n",
    "\n",
    "### Check HelloWorld.py file\n",
    "\n",
    "# make call for module\n",
    "\n",
    "import HelloWorld\n",
    "HelloWorld.myFunction() # Dot Notation which allows us to call function by first specifying the module name and then the name of function.\n",
    "\n",
    "# Opetional method\n",
    "from HelloWorld import myFunction\n",
    "myFunction()"
   ]
  },
  {
   "cell_type": "code",
   "execution_count": 4,
   "id": "2548ca6c",
   "metadata": {},
   "outputs": [
    {
     "name": "stdout",
     "output_type": "stream",
     "text": [
      "Enter the input file name with extension: text1.txt\n",
      "Enter the output file name with extension: text2.txt\n"
     ]
    }
   ],
   "source": [
    "# Write a script name copyfile.py\n",
    "# This script should prompt the user for names of two text files.\n",
    "# the contents of the first file should be input and written to the second file.\n",
    "\n",
    "'''\n",
    "    Create a file name \"CopyFile.py\"\n",
    "    import it as module.\n",
    "'''\n",
    "\n",
    "from CopyFile import copyfile\n",
    "copyfile()"
   ]
  },
  {
   "cell_type": "code",
   "execution_count": 3,
   "id": "134565a5",
   "metadata": {},
   "outputs": [
    {
     "name": "stdout",
     "output_type": "stream",
     "text": [
      "Earth.\n",
      "It\n",
      "Solar\n",
      "Sun\n",
      "System.\n",
      "The\n",
      "a\n",
      "and\n",
      "as\n",
      "at\n",
      "ball\n",
      "by\n",
      "center\n",
      "core.\n",
      "energy\n",
      "for\n",
      "fusion\n",
      "heated\n",
      "hot\n",
      "important\n",
      "in\n",
      "incandescence\n",
      "infrared\n",
      "is\n",
      "its\n",
      "life\n",
      "light,\n",
      "mainly\n",
      "most\n",
      "nearly\n",
      "nuclear\n",
      "of\n",
      "on\n",
      "perfect\n",
      "plasma,[18][19]\n",
      "radiates\n",
      "radiation,\n",
      "reactions\n",
      "source\n",
      "star\n",
      "the\n",
      "this\n",
      "to\n",
      "ultraviolet,\n"
     ]
    }
   ],
   "source": [
    "# Write a program that inputs a txt file\n",
    "# The program should print all of the unique words in the file in alphabetical order.\n",
    "'''\n",
    "    create module for seperste unique words and arrange it in Alphabetical order\n",
    "'''\n",
    "# import module\n",
    "from unique_file import unique_file\n",
    "\n",
    "unique_alpha_file('sample.txt', 'unique_output.txt')\n",
    "\n",
    "for line in sorted(open('unique_output.txt')): # sorting words in Alphabetical order\n",
    "    print(line, end=\"\")"
   ]
  },
  {
   "cell_type": "code",
   "execution_count": 11,
   "id": "4ef9d164",
   "metadata": {},
   "outputs": [
    {
     "name": "stdout",
     "output_type": "stream",
     "text": [
      "XXI\n"
     ]
    }
   ],
   "source": [
    "# Write a python class to convert an intrger to a roman numeral\n",
    "\n",
    "class py_solution:\n",
    "    def int_to_Roman(self, num):\n",
    "        val = [\n",
    "            1000, 900, 500, 400,\n",
    "            100, 90, 50, 40,\n",
    "            10, 9, 5, 4,\n",
    "            1\n",
    "            ]\n",
    "        syb = [\n",
    "            \"M\", \"CM\", \"D\", \"CD\",\n",
    "            \"C\", \"XC\", \"L\", \"XL\",\n",
    "            \"X\", \"IX\", \"V\", \"IV\",\n",
    "            \"I\"\n",
    "            ]\n",
    "        \n",
    "        roman_num = ''\n",
    "        i = 0\n",
    "        while num > 0:\n",
    "            for _ in range(num// val[i]):\n",
    "                roman_num += syb[i]\n",
    "                num -= val[i]\n",
    "            i +=1\n",
    "        return roman_num\n",
    "\n",
    "print(py_solution().int_to_Roman(21))"
   ]
  },
  {
   "cell_type": "code",
   "execution_count": 2,
   "id": "e46ccb1b",
   "metadata": {},
   "outputs": [
    {
     "name": "stdout",
     "output_type": "stream",
     "text": [
      "8\n"
     ]
    }
   ],
   "source": [
    "# Write a python class to implement pow(x,n)\n",
    "\n",
    "def Power(x, y):\n",
    "    if (y==0):\n",
    "        return 1\n",
    "    elif (int(y%2) == 0):\n",
    "        return (Power(x, int(y/2)) * Power(x, int(y/2)))\n",
    "    else:\n",
    "        return (x * Power(x, int(y/2)) * Power(x, int(y/2)))\n",
    "\n",
    "# driver code \n",
    "x = 2\n",
    "y = 3\n",
    "print( Power(x, y))"
   ]
  },
  {
   "cell_type": "code",
   "execution_count": 5,
   "id": "490b918d",
   "metadata": {},
   "outputs": [
    {
     "name": "stdout",
     "output_type": "stream",
     "text": [
      "Python to Welcome\n"
     ]
    }
   ],
   "source": [
    "# Write a python class to reverse a string word by word\n",
    "'''\n",
    "    1. create class Revert\n",
    "    2. define function inside class \n",
    "    3. Now we have to split the aentence into a list of words\n",
    "        and to form the new sentence join() is using for joining the words in list\n",
    "    4. at last print Reverse().reverse_word(\"Welcome to Python\") to get output\n",
    "'''\n",
    "class Reverse:\n",
    "    def reverse_word(self, str):\n",
    "        return ' '.join(reversed(str.split()))\n",
    "\n",
    "print(Reverse().reverse_word(\"Welcome to Python\"))"
   ]
  },
  {
   "cell_type": "code",
   "execution_count": 7,
   "id": "25b8ee7e",
   "metadata": {},
   "outputs": [
    {
     "name": "stdout",
     "output_type": "stream",
     "text": [
      "9\n"
     ]
    }
   ],
   "source": [
    "# Python program for find remainder of array multiplication divided by n\n",
    "def findremainder(arr, lens, n):\n",
    "    mul = 1\n",
    "    for i in arr:\n",
    "        mul = mul * (i % n)\n",
    "    return mul%n\n",
    "\n",
    "arr = [100,10,5,25,35,14]\n",
    "lens = len(arr)\n",
    "n = 11\n",
    "print(findremainder(arr,lens,n))"
   ]
  },
  {
   "cell_type": "code",
   "execution_count": 17,
   "id": "e6476e83",
   "metadata": {},
   "outputs": [
    {
     "data": {
      "text/plain": [
       "100"
      ]
     },
     "execution_count": 17,
     "metadata": {},
     "output_type": "execute_result"
    }
   ],
   "source": [
    "# Pthon program for cube sum of first n natural numbers\n",
    "'''\n",
    "    Print the sum of series 1^3+2^3+3^3+...+n^3 till n'th term.\n",
    "'''\n",
    "\n",
    "def cube_f(num):\n",
    "    cube = 0\n",
    "    for i in range(1,num+1):    \n",
    "        cube += (i*i*i)\n",
    "    return cube\n",
    "\n",
    "cube_f(4)"
   ]
  },
  {
   "cell_type": "code",
   "execution_count": 12,
   "id": "180e588f",
   "metadata": {},
   "outputs": [
    {
     "name": "stdout",
     "output_type": "stream",
     "text": [
      "7  is prime\n",
      "The time of execution of above program is : 0.0 min\n"
     ]
    }
   ],
   "source": [
    "import time\n",
    "def isPrime(num):\n",
    "    start = time.time()\n",
    "    if num >1:\n",
    "        for i in range(2, num):\n",
    "            if (num % i) == 0:\n",
    "                end = time.time()\n",
    "                print(num, \" is not prime\")\n",
    "                break\n",
    "        else:\n",
    "            end = time.time()\n",
    "            print(num, \" is prime\")\n",
    "    else:\n",
    "        end = time.time()\n",
    "        print(num, \" is not prime\")\n",
    "    #end = time.time()\n",
    "    print(\"The time of execution of above program is :\", ((end-start) * 10**3/60000), \"min\")\n",
    "# Leonhard Euler = 2147483647 \n",
    "isPrime(7)"
   ]
  },
  {
   "cell_type": "code",
   "execution_count": 8,
   "id": "5b07fdae",
   "metadata": {},
   "outputs": [
    {
     "name": "stdout",
     "output_type": "stream",
     "text": [
      "area of circle is 78.55\n"
     ]
    }
   ],
   "source": [
    "# Find Area of circle\n",
    "def area_circle(r):\n",
    "    pi = 3.142\n",
    "    return pi*r*r\n",
    "print(\"area of circle is {}\".format(area_circle(5)))"
   ]
  },
  {
   "cell_type": "code",
   "execution_count": 13,
   "id": "25bc3e8f",
   "metadata": {},
   "outputs": [
    {
     "name": "stdout",
     "output_type": "stream",
     "text": [
      "Compound interest is  6288.946267774416\n"
     ]
    }
   ],
   "source": [
    "# python Program for compound interest\n",
    "\n",
    "def compound_interest(principle, rate, time):\n",
    "    amount = principle * (pow((1+ rate/100 ), time))\n",
    "    CI = amount - principle\n",
    "    print(\"Compound interest is \", CI)\n",
    "\n",
    "compound_interest(10000, 10.25, 5)"
   ]
  },
  {
   "cell_type": "code",
   "execution_count": 15,
   "id": "ec3310d6",
   "metadata": {},
   "outputs": [
    {
     "name": "stdout",
     "output_type": "stream",
     "text": [
      "11\n",
      "44\n"
     ]
    }
   ],
   "source": [
    "# Python program to print positive numbers in list\n",
    "def PositiveNum(l):\n",
    "    L = list(l)\n",
    "    for i in L:\n",
    "        if i >= 0:\n",
    "            print(i)\n",
    "l= [11,-32,44,-67,-44]\n",
    "PositiveNum(l)"
   ]
  },
  {
   "cell_type": "code",
   "execution_count": 15,
   "id": "b61bbd8e",
   "metadata": {},
   "outputs": [
    {
     "name": "stdout",
     "output_type": "stream",
     "text": [
      "Updated list :  [11, 5, 77, 9]\n"
     ]
    }
   ],
   "source": [
    "# Remove Even number from list\n",
    "list1 = [11, 5, 4, 70, 77, 9]\n",
    "\n",
    "list2=[]\n",
    "\n",
    "for i in list1:\n",
    "    if (i%2) == 0:\n",
    "        list2.append(i)\n",
    "\n",
    "for j in list2:\n",
    "    list1.remove(j)\n",
    "    \n",
    "print(\"Updated list : \", list1)"
   ]
  },
  {
   "cell_type": "code",
   "execution_count": 16,
   "id": "d4968414",
   "metadata": {},
   "outputs": [
    {
     "data": {
      "text/plain": [
       "[9, 5, 4, 70, 77, 11]"
      ]
     },
     "execution_count": 16,
     "metadata": {},
     "output_type": "execute_result"
    }
   ],
   "source": [
    "# Python program to interchange first and last elements in list\n",
    "def swap_lastandfirst(givenlist):\n",
    "    size = len(givenlist)\n",
    "    \n",
    "    temp = givenlist[0]\n",
    "    givenlist[0] = givenlist[size -1]\n",
    "    givenlist[size-1] = temp\n",
    "    \n",
    "    return givenlist\n",
    "\n",
    "givenlist = [11, 5, 4, 70, 77, 9]\n",
    "swap_lastandfirst(givenlist)"
   ]
  },
  {
   "cell_type": "code",
   "execution_count": 28,
   "id": "5d6a61a6",
   "metadata": {},
   "outputs": [
    {
     "name": "stdout",
     "output_type": "stream",
     "text": [
      "Accepted\n"
     ]
    }
   ],
   "source": [
    "# Program to accept the string which contains all vowels\n",
    "def check(string):\n",
    "    string = string.lower()\n",
    "    \n",
    "    vowels = set('aeiou')\n",
    "    \n",
    "    s = set({})\n",
    "    \n",
    "    for char in string:\n",
    "        if char in vowels:\n",
    "            s.add(char)\n",
    "        else:\n",
    "            pass\n",
    "    if len(s) == len(vowels):\n",
    "        print(\"Accepted\")\n",
    "    else:\n",
    "        print(\"Not accepted\")\n",
    "\n",
    "string = \"SEEquioaL\"\n",
    "\n",
    "check(string)"
   ]
  },
  {
   "cell_type": "code",
   "execution_count": 35,
   "id": "bedf0f4e",
   "metadata": {},
   "outputs": [
    {
     "name": "stdout",
     "output_type": "stream",
     "text": [
      "Original string:  This_is_python_file\n",
      "modified string:  This Is Python File\n"
     ]
    }
   ],
   "source": [
    "# Convert Snake case to Pascal case\n",
    "''' Using title() + replace()'''\n",
    "\n",
    "test_str = \"This_is_python_file\"\n",
    "\n",
    "print(\"Original string: \", test_str)\n",
    "\n",
    "convert = test_str.replace(\"_\",\" \").title().replace(\" \", \" \")\n",
    "\n",
    "print(\"modified string: \",convert)"
   ]
  },
  {
   "cell_type": "code",
   "execution_count": 55,
   "id": "6ed12b1a",
   "metadata": {},
   "outputs": [
    {
     "name": "stdout",
     "output_type": "stream",
     "text": [
      "{'rahul': [9], 'rohit': [68], 'virat': [103]}\n"
     ]
    }
   ],
   "source": [
    "# Convert a list of tuples into Dictionary\n",
    "\n",
    "def Convert(tup, di):\n",
    "    for a,b in tup:\n",
    "        di.setdefault(a, []).append(b)\n",
    "    return di\n",
    "\n",
    "#exp:\n",
    "tup = [('rahul', 9), ('rohit', 68), (\"virat\", 103)]\n",
    "dictionary = {}\n",
    "\n",
    "print(Convert(tup, dictionary))"
   ]
  },
  {
   "cell_type": "code",
   "execution_count": 62,
   "id": "ef3143ad",
   "metadata": {},
   "outputs": [
    {
     "name": "stdout",
     "output_type": "stream",
     "text": [
      "[('rohit', 68), ('rahul', 90), ('virat', 103)]\n"
     ]
    }
   ],
   "source": [
    "# python program to sort a list of tuples by second item\n",
    "\n",
    "def sort_tuple(tup):\n",
    "    lst = len(tup)\n",
    "    \n",
    "    for i in range(0, lst):\n",
    "        for j in range(0, lst-i-1):\n",
    "            if (tup[j][1] > tup[j+1][1]):\n",
    "                temp = tup[j]\n",
    "                tup[j] = tup[j + 1]\n",
    "                tup[j + 1] = temp\n",
    "    return tup\n",
    "\n",
    "tup = [('rahul', 90), ('rohit', 68), (\"virat\", 103)]\n",
    "\n",
    "print(sort_tuple(tup))"
   ]
  },
  {
   "cell_type": "code",
   "execution_count": 66,
   "id": "9e7ca78e",
   "metadata": {},
   "outputs": [
    {
     "name": "stdout",
     "output_type": "stream",
     "text": [
      "given string is Palindrome\n"
     ]
    }
   ],
   "source": [
    "# Python program to check palindrome or not\n",
    "\n",
    "def isPalindrome(s):\n",
    "    if s == s[::-1]:\n",
    "        return (\"given string is Palindrome\")\n",
    "    else:\n",
    "        return (\"given string is not Palindrome\")\n",
    "\n",
    "s = \"malayalam\"\n",
    "print(isPalindrome(s))"
   ]
  },
  {
   "cell_type": "code",
   "execution_count": 70,
   "id": "a142bd21",
   "metadata": {},
   "outputs": [
    {
     "name": "stdout",
     "output_type": "stream",
     "text": [
      "The entered string is palindrome\n",
      "The entered string is symmetrical\n"
     ]
    }
   ],
   "source": [
    "# Python program to check whether the string is Symmetrical or Palindrome\n",
    "\n",
    "# function to check whether the string is plaindrome or not\n",
    "\n",
    "def Palindrome(a):\n",
    "    # find the mid, start, and last index of the string\n",
    "    mid= (len(a)-1)//2\n",
    "    start = 0\n",
    "    last = len(a)-1\n",
    "    flag = 0\n",
    "    \n",
    "    # A loop till the mid of string\n",
    "    while(start<mid):\n",
    "        if (a[start] == a[last]):\n",
    "            start += 1\n",
    "            last -= 1\n",
    "        else:\n",
    "            flag = 1\n",
    "            break\n",
    "    \n",
    "    if flag == 0:\n",
    "        print(\"The entered string is palindrome\")\n",
    "    else:\n",
    "        print(\"The entered string is not palindrome\")\n",
    "        \n",
    "# Function to check whether the string is symmetrical or not\n",
    "def symmetry(a):\n",
    "    n = len(a)\n",
    "    flag = 0\n",
    "    \n",
    "    # check if the string's length is odd or even\n",
    "    if n%2:\n",
    "        mid = n//2 +1\n",
    "    else:\n",
    "        mid = n//2\n",
    "    \n",
    "    start1 = 0\n",
    "    start2 = mid\n",
    "    \n",
    "    while(start1 < mid and start2 <n):\n",
    "        if (a[start1] == a[start2]):\n",
    "            start1 = start1 + 1\n",
    "            start2 = start2 + 1\n",
    "        else:\n",
    "            flag = 1\n",
    "            break\n",
    "    if flag == 0:\n",
    "        print(\"The entered string is symmetrical\")\n",
    "    else:\n",
    "        print(\"The entered string is not symmetrical\")\n",
    "        \n",
    "string = \"amaama\"\n",
    "Palindrome(string)\n",
    "symmetry(string)"
   ]
  },
  {
   "cell_type": "code",
   "execution_count": 78,
   "id": "b509e577",
   "metadata": {},
   "outputs": [
    {
     "data": {
      "text/plain": [
       "5"
      ]
     },
     "execution_count": 78,
     "metadata": {},
     "output_type": "execute_result"
    }
   ],
   "source": [
    "# Python program for Sum of Squares of first n natural numbers\n",
    "'''\n",
    "    find 1^2 + 2^2 + 3^2 + ... + n^2 ?\n",
    "'''\n",
    "\n",
    "def squaresum(n):\n",
    "    sm = 0\n",
    "    for i in range(1, n+1):\n",
    "        sm = sm + (i*i)\n",
    "    return sm\n",
    "\n",
    "squaresum(2)"
   ]
  }
 ],
 "metadata": {
  "kernelspec": {
   "display_name": "Python 3 (ipykernel)",
   "language": "python",
   "name": "python3"
  },
  "language_info": {
   "codemirror_mode": {
    "name": "ipython",
    "version": 3
   },
   "file_extension": ".py",
   "mimetype": "text/x-python",
   "name": "python",
   "nbconvert_exporter": "python",
   "pygments_lexer": "ipython3",
   "version": "3.8.8"
  }
 },
 "nbformat": 4,
 "nbformat_minor": 5
}
