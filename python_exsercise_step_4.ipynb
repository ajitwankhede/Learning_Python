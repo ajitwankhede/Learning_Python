{
 "cells": [
  {
   "cell_type": "code",
   "execution_count": 3,
   "id": "9ba6a98c",
   "metadata": {},
   "outputs": [
    {
     "name": "stdout",
     "output_type": "stream",
     "text": [
      "Hello World !!\n",
      "Hello World !!\n"
     ]
    }
   ],
   "source": [
    "# Write a python program to define a module and import a  specific\n",
    "# function in that module to another program\n",
    "'''\n",
    "    A module is simply a Python file with the .py extension.\n",
    "    the name of file becomes the module name. Inside the file, we can have defibation and implementation of classes, variables,\n",
    "    or functions. these can be use as python programs.\n",
    "'''\n",
    "\n",
    "'''let us begin by creating s function that simply prints \"Hello World\" '''\n",
    "\n",
    "### Check HelloWorld.py file\n",
    "\n",
    "# make call for module\n",
    "\n",
    "import HelloWorld\n",
    "HelloWorld.myFunction() # Dot Notation which allows us to call function by first specifying the module name and then the name of function.\n",
    "\n",
    "# Opetional method\n",
    "from HelloWorld import myFunction\n",
    "myFunction()"
   ]
  },
  {
   "cell_type": "code",
   "execution_count": 4,
   "id": "2548ca6c",
   "metadata": {},
   "outputs": [
    {
     "name": "stdout",
     "output_type": "stream",
     "text": [
      "Enter the input file name with extension: text1.txt\n",
      "Enter the output file name with extension: text2.txt\n"
     ]
    }
   ],
   "source": [
    "# Write a script name copyfile.py\n",
    "# This script should prompt the user for names of two text files.\n",
    "# the contents of the first file should be input and written to the second file.\n",
    "\n",
    "'''\n",
    "    Create a file name \"CopyFile.py\"\n",
    "    import it as module.\n",
    "'''\n",
    "\n",
    "from CopyFile import copyfile\n",
    "copyfile()"
   ]
  },
  {
   "cell_type": "code",
   "execution_count": null,
   "id": "134565a5",
   "metadata": {},
   "outputs": [],
   "source": [
    "# Write a program that inputs a txt file\n",
    "# The program should print all of the unique words in the file in alphabetical order.\n",
    " '''\n",
    "     create module for \n",
    " '''"
   ]
  }
 ],
 "metadata": {
  "kernelspec": {
   "display_name": "Python 3 (ipykernel)",
   "language": "python",
   "name": "python3"
  },
  "language_info": {
   "codemirror_mode": {
    "name": "ipython",
    "version": 3
   },
   "file_extension": ".py",
   "mimetype": "text/x-python",
   "name": "python",
   "nbconvert_exporter": "python",
   "pygments_lexer": "ipython3",
   "version": "3.8.8"
  }
 },
 "nbformat": 4,
 "nbformat_minor": 5
}
