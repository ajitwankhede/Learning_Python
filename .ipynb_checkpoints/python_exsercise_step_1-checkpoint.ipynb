{
 "cells": [
  {
   "cell_type": "code",
   "execution_count": 1,
   "id": "da66ceaf",
   "metadata": {},
   "outputs": [
    {
     "name": "stdout",
     "output_type": "stream",
     "text": [
      "data type of var(a) is  <class 'int'>\n",
      "data type of var(b) is  <class 'float'>\n",
      "data type of var(c) is  <class 'complex'>\n"
     ]
    }
   ],
   "source": [
    "## Write a program to demonstrate different number data types in Python.\n",
    "a=10\n",
    "b=11.5\n",
    "c=2.05j\n",
    "print(\"data type of var(a) is \", type(a))\n",
    "print(\"data type of var(b) is \", type(b))\n",
    "print(\"data type of var(c) is \", type(c))"
   ]
  },
  {
   "cell_type": "code",
   "execution_count": 2,
   "id": "0534202c",
   "metadata": {},
   "outputs": [
    {
     "name": "stdout",
     "output_type": "stream",
     "text": [
      "Enter value of a5\n",
      "Enter value of b2\n",
      "Addition of a and b 7\n",
      "subtraction of a and b 3\n",
      "Multiplication of a and b 10\n",
      "Division of a and b 2.5\n",
      "Remainder of a and b 1\n",
      "exponent of a and b 25\n",
      "Floar division of a and b 2\n"
     ]
    }
   ],
   "source": [
    "## Write a program to perform different Arithmetic Operations on numbers in Python.\n",
    "a = int(input(\"Enter value of a\"))\n",
    "b = int(input(\"Enter value of b\"))\n",
    "print(\"Addition of a and b\", a+b)\n",
    "print(\"subtraction of a and b\", a-b)\n",
    "print(\"Multiplication of a and b\", a*b)\n",
    "print(\"Division of a and b\", a/b)\n",
    "print(\"Remainder of a and b\", a%b)\n",
    "print(\"exponent of a and b\", a**b)\n",
    "print(\"Floar division of a and b\", a//b)"
   ]
  },
  {
   "cell_type": "code",
   "execution_count": 4,
   "id": "37fd7eaf",
   "metadata": {},
   "outputs": [
    {
     "name": "stdout",
     "output_type": "stream",
     "text": [
      "Enter first string : ajit\n",
      "Enter second string : wankhede\n",
      "First string is ajit\n",
      "Second string is wankhede\n",
      "concatenation of two string is : ajitwankhede\n",
      "substring from given string :  jit\n"
     ]
    }
   ],
   "source": [
    "## Write a program to create, concatenate and print a string and accessing sub-string from a given string\n",
    "str1 = str(input(\"Enter first string : \"))\n",
    "str2 = str(input(\"Enter second string : \"))\n",
    "print(\"First string is\", str1)\n",
    "print(\"Second string is\", str2)\n",
    "print(\"concatenation of two string is :\", str1 +str2)\n",
    "print(\"substring from given string : \", str1[1:4])"
   ]
  },
  {
   "cell_type": "code",
   "execution_count": 10,
   "id": "69e0db0d",
   "metadata": {},
   "outputs": [
    {
     "name": "stdout",
     "output_type": "stream",
     "text": [
      "Thu Dec 29 15:12:58 India Standard Time 2022\n"
     ]
    },
    {
     "data": {
      "text/plain": [
       "'\\n    %a : Abbreviated weekday name\\n    %b : Abbreviated month name\\n    %d : day of the month as a decimal number\\n    %H : Hour (24-hour clock) as decimal number\\n    %M : Minute as decimal number\\n    %S : Second as decimal number\\n    %Z : Time zone name (no characters if no time zone exists)\\n    %Y : Year with century as a decimal number.\\n'"
      ]
     },
     "execution_count": 10,
     "metadata": {},
     "output_type": "execute_result"
    }
   ],
   "source": [
    "##  Write a python script to print the current date in the following format \n",
    "## “Sun May 29 02:26:23 IST 2017”\n",
    "import time\n",
    "localtime = time.localtime()\n",
    "print(time.strftime(\"%a %b %d %H:%M:%S %Z %Y\", localtime));\n",
    "\n",
    "'''\n",
    "    %a : Abbreviated weekday name\n",
    "    %b : Abbreviated month name\n",
    "    %d : day of the month as a decimal number\n",
    "    %H : Hour (24-hour clock) as decimal number\n",
    "    %M : Minute as decimal number\n",
    "    %S : Second as decimal number\n",
    "    %Z : Time zone name (no characters if no time zone exists)\n",
    "    %Y : Year with century as a decimal number.\n",
    "'''\n"
   ]
  },
  {
   "cell_type": "code",
   "execution_count": 2,
   "id": "fa2c50cd",
   "metadata": {},
   "outputs": [],
   "source": [
    "# write a program to create, append and remove lists in python\n",
    "#create list \n",
    "my_list = []\n",
    "my_list =[1,3,4] # integer list\n",
    "my_list = [1, 'hello', 3.5] # mixed list\n",
    "\n",
    "# Nested list\n",
    "my_list = [1,2, ['a', 'b', 'c'], 3]"
   ]
  },
  {
   "cell_type": "code",
   "execution_count": 10,
   "id": "1d673a7d",
   "metadata": {},
   "outputs": [
    {
     "name": "stdout",
     "output_type": "stream",
     "text": [
      "[1, 2, 3, 5]\n",
      "['a', 'b', 'c', 'x', 'y', 'z']\n",
      "[1, 2, 3, 5, 'a', 'b', 'c', 'x', 'y', 'z']\n"
     ]
    }
   ],
   "source": [
    "# We can add one item to a list using the append() method\n",
    "# or add several items using extend() method\n",
    "\n",
    "add = [1, 2, 3]\n",
    "add.append(5)\n",
    "print(add)\n",
    "\n",
    "ext_list =['a','b','c']\n",
    "ext_list.extend(['x','y','z'])\n",
    "print(ext_list)\n",
    "\n",
    "# we can also use + operator to combine two list. \n",
    "# This is also called cancatination of list.\n",
    "list_concate = add + ext_list\n",
    "print(list_concate)"
   ]
  },
  {
   "cell_type": "code",
   "execution_count": 14,
   "id": "878e51bb",
   "metadata": {},
   "outputs": [
    {
     "name": "stdout",
     "output_type": "stream",
     "text": [
      "['a', 'b', 'c', 'd']\n",
      "['c', 'd']\n"
     ]
    }
   ],
   "source": [
    "# Delete/Remove list Element\n",
    "my_list = ['a','b','c','d']\n",
    "\n",
    "# Delete one item\n",
    "#del my_list[2] # remove comment for action\n",
    "print(my_list)\n",
    "\n",
    "# Delete multiple items\n",
    "del my_list[0:2]\n",
    "print(my_list)\n",
    "\n",
    "# Delete entire list\n",
    "del my_list\n",
    "print(my_list) # it show Error: list not define because we delete list"
   ]
  },
  {
   "cell_type": "code",
   "execution_count": 18,
   "id": "3fe96f3d",
   "metadata": {},
   "outputs": [
    {
     "name": "stdout",
     "output_type": "stream",
     "text": [
      "[1, 2, 3, 4, 5, 'v', 6]\n",
      "[1, 2, 3, 4, 5, 6]\n"
     ]
    }
   ],
   "source": [
    "# We can use remove() method to remove the given item\n",
    "# or pop() method to remmove an item at the given index\n",
    "list_l = [1,2,3,4,'a',5,'v',6]\n",
    "list_l.remove('a')\n",
    "print(list_l)\n",
    "\n",
    "list_l.pop(5) # provied index of element like .pop(i) where i is integer\n",
    "print(list_l)\n",
    "\n",
    "# Note: the pop() method removes and return the last iteam if the index is not provided.\n",
    "#       This helps us implement lists as stacks (first in last out data structure).\n"
   ]
  },
  {
   "cell_type": "code",
   "execution_count": 19,
   "id": "af5b4a12",
   "metadata": {},
   "outputs": [
    {
     "name": "stdout",
     "output_type": "stream",
     "text": [
      "(1, 3, 4)\n",
      "(1, 2, 2.3, 'a', 'b')\n",
      "('Hello', 2, [1, 2, 3], ('a', 'b', 'c'))\n"
     ]
    }
   ],
   "source": [
    "# Write a program to demostrate working with tuples in python\n",
    "# Tuple can have any number of items and they may be of different types (int, flot, str, etc.).\n",
    "\n",
    "# empty Tuple\n",
    "my_tuple = ()\n",
    "\n",
    "# tuple having integers\n",
    "my_tuple = (1,3,4)\n",
    "print(my_tuple)\n",
    "\n",
    "# tuple with mix datatype\n",
    "my_tuple = (1, 2, 2.3, 'a', 'b')\n",
    "print(my_tuple)\n",
    "\n",
    "# Nested tuple\n",
    "my_tuple = (\"Hello\", 2, [1,2,3], ('a', 'b', 'c'))\n",
    "print(my_tuple)"
   ]
  },
  {
   "cell_type": "code",
   "execution_count": 23,
   "id": "44aa1ed2",
   "metadata": {},
   "outputs": [
    {
     "name": "stdout",
     "output_type": "stream",
     "text": [
      "(1, 2.3, 'abc')\n",
      "1\n",
      "2.3\n",
      "abc\n"
     ]
    }
   ],
   "source": [
    "# Tuple can be created \"without\" using \"parenthesis\"\n",
    "# This is known as tuple packing\n",
    "\n",
    "my_tuple = 1, 2.3 , \"abc\"\n",
    "print(my_tuple)\n",
    "\n",
    "# Tuple unpacking is also possible\n",
    "a, b, c = my_tuple\n",
    "print(a)\n",
    "print(b)\n",
    "print(c)"
   ]
  },
  {
   "cell_type": "code",
   "execution_count": 26,
   "id": "76afa241",
   "metadata": {},
   "outputs": [
    {
     "name": "stdout",
     "output_type": "stream",
     "text": [
      "<class 'str'>\n",
      "<class 'tuple'>\n",
      "<class 'tuple'>\n"
     ]
    }
   ],
   "source": [
    "# Note : \n",
    "    # Having one element within parenthesis is not enough.\n",
    "    # We will need a trailing comma (,) to indicate that it is in fact a Tuple.\n",
    "# For Exp:\n",
    "my_tupe = (\"Hello\") \n",
    "print(type(my_tupe)) # <class 'str'>\n",
    "\n",
    "my_tuple = (\"Hello\",)\n",
    "print(type(my_tuple)) # <class 'tuple'>\n",
    "\n",
    "my_tuple = \"Hello\",\n",
    "print(type(my_tuple)) # <class 'tuple'>"
   ]
  },
  {
   "cell_type": "code",
   "execution_count": 32,
   "id": "eb0c7b41",
   "metadata": {},
   "outputs": [
    {
     "name": "stdout",
     "output_type": "stream",
     "text": [
      "{1: 'apple', 2: 'Ball'}\n"
     ]
    }
   ],
   "source": [
    "# Write a program to demonstrate working with dictionaries in python\n",
    "\n",
    "# Empty Dictionary\n",
    "my_dict = {}\n",
    "\n",
    "# dictinory with integer key\n",
    "my_dict = {1: \"Apple\",\n",
    "          2: \"ball\"}\n",
    "\n",
    "# dictionary with mixed keys\n",
    "my_dict = { \"name\": \"Ram\",\n",
    "          1: [1,2,3]}\n",
    "\n",
    "# using dict() method\n",
    "my_dict = dict({1: \"Apple\", 2: \"ball\"})\n",
    "\n",
    "# from sequence having each item as a pair\n",
    "my_dict = dict([ (1,\"apple\"), (2, \"Ball\") ])\n",
    "print(my_dict)"
   ]
  },
  {
   "cell_type": "code",
   "execution_count": 38,
   "id": "ac7f6e6c",
   "metadata": {},
   "outputs": [
    {
     "name": "stdout",
     "output_type": "stream",
     "text": [
      "ram\n",
      "21\n",
      "None\n"
     ]
    },
    {
     "ename": "KeyError",
     "evalue": "'address'",
     "output_type": "error",
     "traceback": [
      "\u001b[1;31m---------------------------------------------------------------------------\u001b[0m",
      "\u001b[1;31mKeyError\u001b[0m                                  Traceback (most recent call last)",
      "Cell \u001b[1;32mIn[38], line 19\u001b[0m\n\u001b[0;32m     17\u001b[0m \u001b[38;5;66;03m# Trying to access keys which dosen't exist \u001b[39;00m\n\u001b[0;32m     18\u001b[0m \u001b[38;5;28mprint\u001b[39m(my_dict\u001b[38;5;241m.\u001b[39mget(\u001b[38;5;124m'\u001b[39m\u001b[38;5;124maddress\u001b[39m\u001b[38;5;124m'\u001b[39m)) \u001b[38;5;66;03m# .get()  method print none\u001b[39;00m\n\u001b[1;32m---> 19\u001b[0m \u001b[38;5;28mprint\u001b[39m(\u001b[43mmy_dict\u001b[49m\u001b[43m[\u001b[49m\u001b[38;5;124;43m'\u001b[39;49m\u001b[38;5;124;43maddress\u001b[39;49m\u001b[38;5;124;43m'\u001b[39;49m\u001b[43m]\u001b[49m)\n",
      "\u001b[1;31mKeyError\u001b[0m: 'address'"
     ]
    }
   ],
   "source": [
    "# Accessing Element From Dictionary\n",
    "\n",
    "# While indexing isused with other data types to access values,\n",
    "# a dictionary uses \"keys\", keys can be used either inside square brackets []\n",
    "# or with get() method\n",
    "\n",
    "# Note:\n",
    "    # IF we use the square brackets [], keyerror i rised in case a key is not found in dictionary\n",
    "    # On the other hand, the get() method returns \"None\", If the key not found.\n",
    "\n",
    "my_dict = {\"name\": \"ram\",\n",
    "          \"age\": 21}\n",
    "\n",
    "print(my_dict['name'])\n",
    "print(my_dict.get('age'))\n",
    "\n",
    "# Trying to access keys which dosen't exist \n",
    "print(my_dict.get('address')) # .get()  method print none\n",
    "print(my_dict['address'])"
   ]
  },
  {
   "cell_type": "code",
   "execution_count": null,
   "id": "714f0331",
   "metadata": {},
   "outputs": [],
   "source": []
  }
 ],
 "metadata": {
  "kernelspec": {
   "display_name": "Python 3 (ipykernel)",
   "language": "python",
   "name": "python3"
  },
  "language_info": {
   "codemirror_mode": {
    "name": "ipython",
    "version": 3
   },
   "file_extension": ".py",
   "mimetype": "text/x-python",
   "name": "python",
   "nbconvert_exporter": "python",
   "pygments_lexer": "ipython3",
   "version": "3.8.8"
  }
 },
 "nbformat": 4,
 "nbformat_minor": 5
}
