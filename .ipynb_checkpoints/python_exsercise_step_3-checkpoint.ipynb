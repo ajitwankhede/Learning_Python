{
 "cells": [
  {
   "cell_type": "code",
   "execution_count": 4,
   "id": "76a192ed",
   "metadata": {},
   "outputs": [
    {
     "name": "stdout",
     "output_type": "stream",
     "text": [
      "12\n",
      "32\n",
      "42\n",
      "42  is largest number\n"
     ]
    }
   ],
   "source": [
    "# Write a python program to find largest of three numbers\n",
    "num1 = int(input())\n",
    "num2 = int(input())\n",
    "num3 = int(input())\n",
    "\n",
    "if (num1 >= num2)  and (num1>=num3):\n",
    "    print(num1, \" is largest number\")\n",
    "elif (num2 >= num1)and (num2>= num3):\n",
    "    print(num2, \" is largest number\")\n",
    "else: \n",
    "    print(num3, \" is largest number\")"
   ]
  },
  {
   "cell_type": "code",
   "execution_count": 14,
   "id": "534aa413",
   "metadata": {},
   "outputs": [
    {
     "name": "stdout",
     "output_type": "stream",
     "text": [
      "Enter temperature value: 38\n",
      "Enter unit of temperature ( C for celsius or F for Fahrenheit:): c\n",
      "Temperature in Fahrenheit :  100.4 F\n"
     ]
    }
   ],
   "source": [
    "# Write a python program to temperatures to and from celsius, Fahrenheite \n",
    "# Formula = C = (f-32)(5/9)\n",
    "\n",
    "temp = float(input(\"Enter temperature value: \"))\n",
    "unit = input(\"Enter unit of temperature ( C for celsius or F for Fahrenheit:): \")\n",
    "\n",
    "if unit == \"F\" or unit == \"f\":\n",
    "    c = (temp - 32)* (5/9)\n",
    "    print(\"Temperature in Celsius: \", c, \"C\")\n",
    "elif unit == \"C\" or unit ==\"c\":\n",
    "    f = (temp* (9/5)) + 32\n",
    "    print( \"Temperature in Fahrenheit : \", f, \"F\")\n",
    "else :\n",
    "    print(\"Unit is unknown\")"
   ]
  },
  {
   "cell_type": "markdown",
   "id": "a7429fae",
   "metadata": {},
   "source": [
    "#### Write a python program to construct the following pattern, using nested for loop.\n",
    "\n",
    "##### *\n",
    "##### **\n",
    "##### ***\n",
    "##### ****\n",
    "##### *****\n",
    "##### ****\n",
    "##### ***\n",
    "##### **\n",
    "##### *"
   ]
  },
  {
   "cell_type": "code",
   "execution_count": 25,
   "id": "4626cec0",
   "metadata": {},
   "outputs": [
    {
     "name": "stdout",
     "output_type": "stream",
     "text": [
      "\n",
      "* \n",
      "* * \n",
      "* * * \n",
      "* * * * \n",
      "* * * * * \n",
      "* * * * \n",
      "* * * \n",
      "* * \n",
      "* \n"
     ]
    }
   ],
   "source": [
    "n =5\n",
    "for i in range(n):\n",
    "    for j in range(i):\n",
    "        print(\"* \", end =\"\")\n",
    "    print(\"\")\n",
    "for i in range(n,0,-1):\n",
    "    for j in range(i):\n",
    "        print(\"* \", end =\"\")\n",
    "    print(\"\")"
   ]
  },
  {
   "cell_type": "code",
   "execution_count": 17,
   "id": "664ac2a7",
   "metadata": {},
   "outputs": [
    {
     "name": "stdout",
     "output_type": "stream",
     "text": [
      "Enter lower range: 1\n",
      "Enter upper range: 10\n",
      "2\n",
      "3\n",
      "5\n",
      "7\n"
     ]
    }
   ],
   "source": [
    "# Write a python script that prints prime numbers within given range\n",
    "\n",
    "lower = int(input(\"Enter lower range: \"))\n",
    "upper = int(input(\"Enter upper range: \"))\n",
    "\n",
    "for num in range(lower, upper+1):\n",
    "    if num > 1:\n",
    "        for i in range(2, num):\n",
    "            if (num % i) == 0:\n",
    "                break\n",
    "        else:\n",
    "            print(num)\n",
    "                "
   ]
  },
  {
   "cell_type": "code",
   "execution_count": 24,
   "id": "a736cfc7",
   "metadata": {},
   "outputs": [
    {
     "name": "stdout",
     "output_type": "stream",
     "text": [
      "Enter number: 10\n",
      "2\n",
      "3\n",
      "5\n",
      "7\n"
     ]
    }
   ],
   "source": [
    "# Using Function method\n",
    "\n",
    "def PrintPrime(n):\n",
    "    #n = int(n)\n",
    "    if (n == 1 or n==0):\n",
    "        return False\n",
    "    #if n>1:\n",
    "    for i in range(2,n):\n",
    "        if (n%i==0):\n",
    "            return False\n",
    "    return True\n",
    "\n",
    "\n",
    "num = int(input(\"Enter number: \"))\n",
    "\n",
    "for i in range(1,num+1):\n",
    "    if PrintPrime(i)==True:\n",
    "        print(i, end=\"\\n\")"
   ]
  },
  {
   "cell_type": "code",
   "execution_count": 31,
   "id": "24181c5c",
   "metadata": {},
   "outputs": [
    {
     "name": "stdout",
     "output_type": "stream",
     "text": [
      "Enter Num: 10\n",
      "Factorial of num  10  is  3628800\n"
     ]
    }
   ],
   "source": [
    "# Wrie a python program to find factorial of a number using Recursion\n",
    "def RecurFactorial(n):\n",
    "    if n == 1:\n",
    "        return n\n",
    "    else:\n",
    "        return n* RecurFactorial(n-1)\n",
    "num = int(input(\"Enter Num: \"))\n",
    "\n",
    "# check negative and zero condition\n",
    "if num <0:\n",
    "    print(\"Factorial dose not exit for negetive number\")\n",
    "elif num == 0:\n",
    "    print(\"Factorial of num \", num, \" is 1\" )\n",
    "else:\n",
    "    print(\"Factorial of num \", num, \" is \", RecurFactorial(num))"
   ]
  },
  {
   "cell_type": "code",
   "execution_count": 39,
   "id": "fbaa45ae",
   "metadata": {},
   "outputs": [
    {
     "name": "stdout",
     "output_type": "stream",
     "text": [
      "enter hight of triangle = 4\n",
      "enter base of triangle = 3\n",
      "enter hypotenuse of triangle = 5\n",
      "it is Right angle triangle\n"
     ]
    }
   ],
   "source": [
    "# Write a program that accepts the leanght pf three side of triangle\n",
    "# as input. the program output shoud indicate whether or not the \n",
    "# triangle is right angle triiangle or not\n",
    "# Tip : Use pythagores therom\n",
    "\n",
    "hight = float(input(\"enter hight of triangle = \"))\n",
    "base = float(input(\"enter base of triangle = \"))\n",
    "hypo = float(input(\"enter hypotenuse of triangle = \"))\n",
    "\n",
    "if hypo**2 == (base**2) + (hight**2):\n",
    "    print(\"it is Right angle triangle\")\n",
    "else:\n",
    "    print(\" it is not right angle triangle\")"
   ]
  },
  {
   "cell_type": "code",
   "execution_count": 5,
   "id": "132d873f",
   "metadata": {},
   "outputs": [
    {
     "data": {
      "text/plain": [
       "[1, 1, 2, 3, 5]"
      ]
     },
     "execution_count": 5,
     "metadata": {},
     "output_type": "execute_result"
    }
   ],
   "source": [
    "''' write a python program to define a module to find\n",
    "    Fibonacci Numbers and import the module to another program \n",
    "'''\n",
    "def Fibonacci(n):\n",
    "    result = []\n",
    "    a,b = 0 ,1\n",
    "    while b < n:\n",
    "        result.append(b)\n",
    "        a, b = b, a+b\n",
    "    return result\n",
    "Fibonacci(6)"
   ]
  },
  {
   "cell_type": "code",
   "execution_count": null,
   "id": "995381aa",
   "metadata": {},
   "outputs": [],
   "source": []
  }
 ],
 "metadata": {
  "kernelspec": {
   "display_name": "Python 3 (ipykernel)",
   "language": "python",
   "name": "python3"
  },
  "language_info": {
   "codemirror_mode": {
    "name": "ipython",
    "version": 3
   },
   "file_extension": ".py",
   "mimetype": "text/x-python",
   "name": "python",
   "nbconvert_exporter": "python",
   "pygments_lexer": "ipython3",
   "version": "3.8.8"
  }
 },
 "nbformat": 4,
 "nbformat_minor": 5
}
